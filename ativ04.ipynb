{
  "nbformat": 4,
  "nbformat_minor": 0,
  "metadata": {
    "colab": {
      "provenance": []
    },
    "kernelspec": {
      "name": "python3",
      "display_name": "Python 3"
    }
  },
  "cells": [
    {
      "cell_type": "markdown",
      "metadata": {
        "id": "Y6QILOdpOjwv"
      },
      "source": [
        "# **Processamento de Linguagem Natural [2023.Q3]**\n",
        "Prof. Alexandre Donizeti Alves"
      ]
    },
    {
      "cell_type": "markdown",
      "metadata": {
        "id": "8m67OOx9MX_3"
      },
      "source": [
        "### **ATIVIDADE PRÁTICA 04 [Uso da API da OpenAI com técnicas de PLN]**\n"
      ]
    },
    {
      "cell_type": "markdown",
      "metadata": {
        "id": "5Gk0nHKabBT-"
      },
      "source": [
        "A **ATIVIDADE PRÁTICA 04** deve ser feita utilizando o **Google Colab** com uma conta sua vinculada ao Gmail. O link do seu notebook, armazenado no Google Drive, além do link de um repositório no GitHub e os principais resultados da atividade, devem ser enviados usando o seguinte formulário:\n",
        "\n",
        "> https://forms.gle/GzwCq3R7ExtE9g9a8\n",
        "\n",
        "\n",
        "**IMPORTANTE**: A submissão deve ser feita até o dia **26/11 (domingo)** APENAS POR UM INTEGRANTE DA EQUIPE, até às 23h59. Por favor, lembre-se de dar permissão de ACESSO IRRESTRITO para o professor da disciplina de PLN."
      ]
    },
    {
      "cell_type": "markdown",
      "metadata": {
        "id": "D7hJlilKM485"
      },
      "source": [
        "### **EQUIPE**\n",
        "\n",
        "---"
      ]
    },
    {
      "cell_type": "markdown",
      "source": [
        "**POR FAVOR, PREENCHER OS INTEGRANDES DA SUA EQUIPE:**\n",
        "\n",
        "\n",
        "**Integrante 01:** Eduardo Renesto Estanquiere - 11201810086"
      ],
      "metadata": {
        "id": "tnIArN0QY-Ek"
      }
    },
    {
      "cell_type": "markdown",
      "source": [
        "### **LIVRO**\n",
        "---"
      ],
      "metadata": {
        "id": "6yExhaebs-nD"
      }
    },
    {
      "cell_type": "markdown",
      "source": [
        "`Processamento de Linguagem Natural - Conceitos, Técnicas e Aplicações em Português.`\n",
        "\n",
        ">\n",
        "\n",
        "Disponível gratuitamente em:\n",
        "  \n",
        "  > https://brasileiraspln.com/livro-pln/1a-edicao/.\n",
        "\n",
        "\n",
        "**POR FAVOR, PREENCHER OS CAPITULOS SELECIONADOS PARA A SUA EQUIPE:**\n",
        "\n",
        "`Primeiro capítulo: 12`\n",
        "\n",
        "`Segundo capítulo: 14`"
      ],
      "metadata": {
        "id": "DjJM_qhEZRy6"
      }
    },
    {
      "cell_type": "markdown",
      "metadata": {
        "id": "EtjgWQRzNphL"
      },
      "source": [
        "### **DESCRIÇÃO**\n",
        "---"
      ]
    },
    {
      "cell_type": "markdown",
      "source": [
        "Implementar um `notebook` no `Google Colab` que faça uso da **API da OpenAI** aplicando, no mínimo, 3 técnicas de PLN. As técnicas devem ser aplicadas nos 2 (DOIS) capítulos do livro **Processamento de Linguagem Natural - Conceitos, Técnicas e Aplicações em Português**.\n",
        "\n",
        ">\n",
        "\n",
        "**RESTRIÇÃO**: É obrigatório usar o *endpoint* \"*`Chat Completions`*\".\n",
        "\n",
        ">\n",
        "\n",
        "As seguintes técnicas de PLN podem ser usadas:\n",
        "\n",
        "*   Correção Gramatical\n",
        "*   Classificação de Textos\n",
        "*   Análise de Sentimentos\n",
        "*   Detecção de Emoções\n",
        "*   Extração de Palavras-chave\n",
        "*   Tradução de Textos\n",
        "*   Sumarização de Textos\n",
        "*   **Similaridade de Textos**\n",
        "*   **Reconhecimento de Entidades Nomeadas**\n",
        "*   **Sistemas de Perguntas e Respostas**\n",
        "\n",
        ">\n",
        "\n",
        "Os capítulos devem ser os mesmos selecionados na **ATIVIDADE PRÁTICA 02**. Para consultar os capítulos, considere a seguinte planilha:\n",
        "\n",
        ">\n",
        "\n",
        "> https://docs.google.com/spreadsheets/d/1ZutzQ3v1OJgsgzCvCwxXlRIQ3ChXNlHNvB63JQvYsbo/edit?usp=sharing\n",
        "\n",
        ">\n",
        ">\n",
        "\n",
        "**IMPORTANTE:** É obrigatório usar o e-mail da UFABC. Não é permitido alterar os capítulos já selecionados.\n",
        "\n"
      ],
      "metadata": {
        "id": "fXTwkiiGs2BV"
      }
    },
    {
      "cell_type": "markdown",
      "source": [
        "### **CRITÉRIOS DE AVALIAÇÃO**\n",
        "---\n"
      ],
      "metadata": {
        "id": "gWsBYQNtxmum"
      }
    },
    {
      "cell_type": "markdown",
      "source": [
        "Serão considerados como critérios de avaliação as técnicas usadas e a criatividade envolvida na aplicação das mesmas.\n",
        "\n",
        "\n"
      ],
      "metadata": {
        "id": "5iHdx4BXYruQ"
      }
    },
    {
      "cell_type": "markdown",
      "source": [
        "### **IMPLEMENTAÇÃO**\n",
        "---"
      ],
      "metadata": {
        "id": "nw09lujGvfjc"
      }
    },
    {
      "cell_type": "markdown",
      "source": [
        "Antes de iniciar o processamento, vamos importar os pacotes necessários."
      ],
      "metadata": {
        "id": "1l-U4xMZXMoi"
      }
    },
    {
      "cell_type": "code",
      "source": [
        "!pip install openai==0.28.1"
      ],
      "metadata": {
        "colab": {
          "base_uri": "https://localhost:8080/"
        },
        "id": "3jlqFZthkTLp",
        "outputId": "a65dfdf8-8d34-4e80-851a-f5ec321aaec4"
      },
      "execution_count": 1,
      "outputs": [
        {
          "output_type": "stream",
          "name": "stdout",
          "text": [
            "Requirement already satisfied: openai==0.28.1 in /usr/local/lib/python3.10/dist-packages (0.28.1)\n",
            "Requirement already satisfied: requests>=2.20 in /usr/local/lib/python3.10/dist-packages (from openai==0.28.1) (2.31.0)\n",
            "Requirement already satisfied: tqdm in /usr/local/lib/python3.10/dist-packages (from openai==0.28.1) (4.66.1)\n",
            "Requirement already satisfied: aiohttp in /usr/local/lib/python3.10/dist-packages (from openai==0.28.1) (3.8.6)\n",
            "Requirement already satisfied: charset-normalizer<4,>=2 in /usr/local/lib/python3.10/dist-packages (from requests>=2.20->openai==0.28.1) (3.3.2)\n",
            "Requirement already satisfied: idna<4,>=2.5 in /usr/local/lib/python3.10/dist-packages (from requests>=2.20->openai==0.28.1) (3.4)\n",
            "Requirement already satisfied: urllib3<3,>=1.21.1 in /usr/local/lib/python3.10/dist-packages (from requests>=2.20->openai==0.28.1) (2.0.7)\n",
            "Requirement already satisfied: certifi>=2017.4.17 in /usr/local/lib/python3.10/dist-packages (from requests>=2.20->openai==0.28.1) (2023.7.22)\n",
            "Requirement already satisfied: attrs>=17.3.0 in /usr/local/lib/python3.10/dist-packages (from aiohttp->openai==0.28.1) (23.1.0)\n",
            "Requirement already satisfied: multidict<7.0,>=4.5 in /usr/local/lib/python3.10/dist-packages (from aiohttp->openai==0.28.1) (6.0.4)\n",
            "Requirement already satisfied: async-timeout<5.0,>=4.0.0a3 in /usr/local/lib/python3.10/dist-packages (from aiohttp->openai==0.28.1) (4.0.3)\n",
            "Requirement already satisfied: yarl<2.0,>=1.0 in /usr/local/lib/python3.10/dist-packages (from aiohttp->openai==0.28.1) (1.9.2)\n",
            "Requirement already satisfied: frozenlist>=1.1.1 in /usr/local/lib/python3.10/dist-packages (from aiohttp->openai==0.28.1) (1.4.0)\n",
            "Requirement already satisfied: aiosignal>=1.1.2 in /usr/local/lib/python3.10/dist-packages (from aiohttp->openai==0.28.1) (1.3.1)\n"
          ]
        }
      ]
    },
    {
      "cell_type": "code",
      "source": [
        "import re\n",
        "import requests\n",
        "from bs4 import BeautifulSoup\n",
        "import openai"
      ],
      "metadata": {
        "id": "RyUailD5vi9E"
      },
      "execution_count": 2,
      "outputs": []
    },
    {
      "cell_type": "code",
      "source": [
        "openai.api_key = input(\"Entre com a chave da API: \")"
      ],
      "metadata": {
        "colab": {
          "base_uri": "https://localhost:8080/"
        },
        "id": "yEEhdf6_key5",
        "outputId": "ca9e662c-5678-4ccd-9db2-015d6802eb32"
      },
      "execution_count": 16,
      "outputs": [
        {
          "name": "stdout",
          "output_type": "stream",
          "text": [
            "Entre com a chave da API: \n"
          ]
        }
      ]
    },
    {
      "cell_type": "markdown",
      "source": [
        "Faremos agora algumas funções de utilidade:\n",
        "\n",
        "- `ask_chat_gpt` é recebe um `role` e um `prompt` e chama o endpoint *ChatCompletion* da OpenAI com o modelo `gpt-3.5-turbo`.\n",
        "- `load_page` faz uma requisição a uma página via HTTP e retorna seu conteúdo HTML cru."
      ],
      "metadata": {
        "id": "DR_svOq5tP7c"
      }
    },
    {
      "cell_type": "code",
      "source": [
        "def ask_chat_gpt(role, prompt):\n",
        "  msgs = [{\n",
        "      'role': role,\n",
        "      'content': prompt,\n",
        "  }]\n",
        "\n",
        "  res = openai.ChatCompletion.create(\n",
        "      model = \"gpt-3.5-turbo\",\n",
        "      messages = msgs,\n",
        "  )\n",
        "\n",
        "  return res.choices[0][\"message\"][\"content\"]"
      ],
      "metadata": {
        "id": "77lXI2KLljz4"
      },
      "execution_count": 4,
      "outputs": []
    },
    {
      "cell_type": "code",
      "source": [
        "def load_page(url):\n",
        "  headers = {\n",
        "    \"User-Agent\": \"Mozilla/5.0 (X11; Linux x86_64; rv:106.0) Gecko/20100101 Firefox/106.0\"\n",
        "  }\n",
        "\n",
        "  res = requests.get(url, headers=headers)\n",
        "\n",
        "  return res.content"
      ],
      "metadata": {
        "id": "QL-HYEnUX6BV"
      },
      "execution_count": 5,
      "outputs": []
    },
    {
      "cell_type": "markdown",
      "source": [
        "Agora, iremos carregar os capítulos com os quais iremos trabalhar."
      ],
      "metadata": {
        "id": "JbLPHSfGtpYy"
      }
    },
    {
      "cell_type": "code",
      "source": [
        "BOOK_URLS = [\n",
        "    \"https://brasileiraspln.com/livro-pln/1a-edicao/parte6/cap12/cap12.html\",\n",
        "    \"https://brasileiraspln.com/livro-pln/1a-edicao/parte7/cap14/cap14.html\",\n",
        "]"
      ],
      "metadata": {
        "id": "r5Z0eNUHYJEZ"
      },
      "execution_count": 6,
      "outputs": []
    },
    {
      "cell_type": "code",
      "source": [
        "page_contents = [ load_page(url) for url in BOOK_URLS ]"
      ],
      "metadata": {
        "id": "BZYXQ1l2YRBd"
      },
      "execution_count": 7,
      "outputs": []
    },
    {
      "cell_type": "markdown",
      "source": [
        "Note que, por estarmos restritos a um número de tokens no plano gratuito da OpenAI, não podemos ficar enviando o conteúdo completo dos capítulos em cada uma das requisições.\n",
        "\n",
        "Portanto, iremos fazer um pré-processamento para separar apenas algum excertos dos capítulos. Daremos ao modelo que estamos usando a responsabilidade de escolher quais são as 2 seções mais importantes de cada capítulo, e rodaremos nossas análises apenas nelas.\n",
        "\n",
        "Esse pré-processamento consiste em algumas funções que, quando compostas, nos darão a análise final que desejamos:\n",
        "\n",
        "- `find_chapters`: descobre quais são as seções presentes no capítulo\n",
        "- `get_chapter_content`: recebe o número da secão e retorna o conteúdo de texto da mesma\n",
        "- `find_important_chapters`: envia os títulos das seções e pergunta ao modelo quais são os que ele julga mais importantes"
      ],
      "metadata": {
        "id": "EwkV5UKStu-K"
      }
    },
    {
      "cell_type": "code",
      "source": [
        "def find_chapters(text):\n",
        "  soup = BeautifulSoup(text)\n",
        "\n",
        "  h3s = soup.select(\"h3\")\n",
        "\n",
        "  return [ h3.text.strip() for h3 in h3s ]"
      ],
      "metadata": {
        "id": "9KlyXh7vYX6F"
      },
      "execution_count": 8,
      "outputs": []
    },
    {
      "cell_type": "code",
      "source": [
        "def get_chapter_content(text, chapter_idx):\n",
        "  soup = BeautifulSoup(text)\n",
        "\n",
        "  section = soup.select(f\"section[data-number='{chapter_idx}']\")\n",
        "\n",
        "  section_texts = [ frag.text.strip() for frag in section ]\n",
        "\n",
        "  return \"\\n\".join(section_texts)"
      ],
      "metadata": {
        "id": "tdzUTKxvoW7k"
      },
      "execution_count": 9,
      "outputs": []
    },
    {
      "cell_type": "code",
      "source": [
        "def find_important_chapters(chapters):\n",
        "  chapter_list = \"; \".join(chapters)\n",
        "\n",
        "  prompt = f\"Dada a lista de tópicos de um texto sobre PLN, escolha os 3 que julgar mais importantes: '{chapter_list}'. Responda apenas os números índices, separados por uma nova linha.\";\n",
        "\n",
        "  answer = ask_chat_gpt(\"user\", prompt)\n",
        "\n",
        "  return answer.split(\"\\n\")"
      ],
      "metadata": {
        "id": "56f3a9iFnmuN"
      },
      "execution_count": 10,
      "outputs": []
    },
    {
      "cell_type": "markdown",
      "source": [
        "Finalmente, a função `analyze_chapter` envia ao modelo o conteúdo da seção e pede ao modelo para fazer três análises:\n",
        "\n",
        "- Correção gramatical;\n",
        "- Sumarização;\n",
        "- Extração de palavras-chave.\n",
        "\n",
        "No `prompt` usamos um truque. Para evitar reenviar o conteúdo inteiro da seção para cada análise, gastando desnecessariamente tokens e banda de rede, mandamos os três comandos num mesmo prompt e instruímos o modelo a separar as respostas com um separador pré-definido -- neste caso, a cadeia `---SNIP---`. Com isso, podemos simplesmente separar as respostas com um `.split(\"---SNIP---\")`.\n",
        "\n",
        "A função irá retornar uma lista, com cada resposta em ordem."
      ],
      "metadata": {
        "id": "muVH794eun3x"
      }
    },
    {
      "cell_type": "code",
      "source": [
        "def analyze_chapter(chapter_text):\n",
        "  prompt = f\"Considere o seguinte texto sobre PLN: \\n\\n'{chapter_text}'\\n\\nResponda corrigindo os erros de português do texto. Em seguida, escreva '---SNIP---' e sumarize o texto. Depois, escreva novamente '---SNIP---' e responda quais as palavras-chaves mais importantes do texto.\"\n",
        "\n",
        "  answer = ask_chat_gpt(\"user\", prompt)\n",
        "\n",
        "  return answer.split(\"---SNIP---\")"
      ],
      "metadata": {
        "id": "5ko3IyC4pkZO"
      },
      "execution_count": 11,
      "outputs": []
    },
    {
      "cell_type": "markdown",
      "source": [
        "Agora, para cada capítulo estudado, vamos apenas compor as funções criadas e obter as análises."
      ],
      "metadata": {
        "id": "45BFla_bvTUY"
      }
    },
    {
      "cell_type": "code",
      "source": [
        "for page_content in page_contents:\n",
        "  chapters = find_chapters(page_content)\n",
        "  important_chapters = find_important_chapters(chapters)\n",
        "\n",
        "  for chapter in important_chapters:\n",
        "    print(f\"Analizando seção {chapter}...\")\n",
        "\n",
        "    chapter_content = get_chapter_content(page_content, chapter)\n",
        "\n",
        "    analysis_result = analyze_chapter(chapter_content)\n",
        "\n",
        "    print(\"Texto original:\\n\")\n",
        "    print(chapter_content)\n",
        "    print(\"-----------------------------\\n\");\n",
        "    print(\"Texto corrigido:\\n\")\n",
        "    print(analysis_result[0])\n",
        "    print(\"-----------------------------\\n\");\n",
        "    print(\"Texto resumido:\\n\");\n",
        "    print(analysis_result[1])\n",
        "    print(\"-----------------------------\\n\");\n",
        "    print(\"Palavras-chave:\\n\")\n",
        "    print(analysis_result[2])"
      ],
      "metadata": {
        "colab": {
          "base_uri": "https://localhost:8080/"
        },
        "id": "scaiWD9msBYD",
        "outputId": "b2cb13f4-2dfb-4525-dab2-fb6e6004ba9d"
      },
      "execution_count": 13,
      "outputs": [
        {
          "output_type": "stream",
          "name": "stdout",
          "text": [
            "Analizando seção 12.2.2...\n",
            "Texto original:\n",
            "\n",
            "12.2.2 Relações Semânticas Referenciais\n",
            "Nesta subseção temos como foco tornar claro os tipos de relações semânticas que podem indicar uma relação de correferência.\n",
            "\n",
            "12.2.2.1 Hiperonímia e Hiponímia\n",
            "Hiperonímia é uma relação semântica que expressa um sentido amplo entre dois termos, partindo de uma classe mais ampla para uma subclasse mais específica, por exemplo: (inseto abelha). Neste caso, o termo “inseto” é um hiperônimo de “abelha”. Já Hiponímia representa uma relação contrária, ou seja, parte de uma classe mais específica para uma classe mais abrangente. Para o exemplo previamente dado temos que “abelha” é um hipônimo de “inseto”. Os hiperônimos e hipônimos são importantes no campo semântico, pois são muito usados na retomada de elementos em um texto, a fim de evitar repetições desnecessárias. No que diz respeito à identificação de menções referenciais em um discurso, na língua portuguesa é comum partirmos de termos específicos para termos mais abrangentes. Dessa forma, a relação de Hiponímia geralmente ocorre com maior frequência.\n",
            "\n",
            "João e Maria estão muito felizes com o seu cão. O animal é fiel e companheiro.\n",
            "Nada disso vai fazê-los mudar de carro. O pequeno veículo parece suprir todas as necessidades deles.\n",
            "\n",
            "\n",
            "\n",
            "12.2.2.2 Sinonímia\n",
            "Trata-se de uma relação entre dois termos, em que estes, mesmo sendo distintos lexicalmente, possuem significados muito próximos, por exemplo: (menino garoto). É importante referir que muitas vezes os sinônimos podem ter conotações diferentes, dependendo do contexto, como: (gato bichano) e (gato atraente). Em um texto, a utilização de sinônimos de uma palavra é importante para evitar repetições. Assim, um sinônimo é uma palavra que, apesar de ser diferente, tem o mesmo significado (ou semelhante) e, por isso, a sua inclusão não altera o sentido do texto em questão.\n",
            "\n",
            "Esse carro é maravilhoso. Também, estamos falando de um automóvel de 100 mil reais.\n",
            "Ana comprou um gato. O bichano adora dormir no sofá.\n",
            "-----------------------------\n",
            "\n",
            "Texto corrigido:\n",
            "\n",
            "Corrigindo os erros de português do texto:\n",
            "\n",
            "'12.2.2 Relações Semânticas Referenciais\n",
            "Nesta subseção, temos como foco tornar claro os tipos de relações semânticas que podem indicar uma relação de correferência.\n",
            "\n",
            "12.2.2.1 Hiperonímia e Hiponímia\n",
            "Hiperonímia é uma relação semântica que expressa um sentido amplo entre dois termos, partindo de uma classe mais ampla para uma subclasse mais específica, por exemplo: (inseto abelha). Neste caso, o termo “inseto” é um hiperônimo de “abelha”. Já a Hiponímia representa uma relação contrária, ou seja, parte de uma classe mais específica para uma classe mais abrangente. No exemplo previamente dado, temos que “abelha” é um hipônimo de “inseto”. Os hiperônimos e hipônimos são importantes no campo semântico, pois são muito usados na retomada de elementos em um texto, a fim de evitar repetições desnecessárias. No que diz respeito à identificação de menções referenciais em um discurso, na língua portuguesa, é comum partirmos de termos específicos para termos mais abrangentes. Dessa forma, a relação de Hiponímia geralmente ocorre com maior frequência.\n",
            "\n",
            "João e Maria estão muito felizes com o seu cão. O animal é fiel e companheiro.\n",
            "Nada disso vai fazê-los mudar de carro. O pequeno veículo parece suprir todas as necessidades deles.\n",
            "\n",
            "\n",
            "-----------------------------\n",
            "\n",
            "Texto resumido:\n",
            "\n",
            "\n",
            "\n",
            "12.2.2.2 Sinonímia\n",
            "Trata-se de uma relação entre dois termos em que estes, mesmo sendo distintos lexicalmente, possuem significados muito próximos, por exemplo: (menino garoto). É importante referir que muitas vezes os sinônimos podem ter conotações diferentes, dependendo do contexto, como: (gato bichano) e (gato atraente). Em um texto, a utilização de sinônimos de uma palavra é importante para evitar repetições. Assim, um sinônimo é uma palavra que, apesar de ser diferente, tem o mesmo significado (ou semelhante) e, por isso, a sua inclusão não altera o sentido do texto em questão.\n",
            "\n",
            "Esse carro é maravilhoso. Também, estamos falando de um automóvel de 100 mil reais.\n",
            "Ana comprou um gato. O bichano adora dormir no sofá.\n",
            "\n",
            "\n",
            "-----------------------------\n",
            "\n",
            "Palavras-chave:\n",
            "\n",
            "\n",
            "\n",
            "As palavras-chave mais importantes do texto são: relações semânticas, hiperonímia, hiponímia, sinonímia, correferência, retomada, menções referenciais.\n",
            "Analizando seção 12.2.3...\n",
            "Texto original:\n",
            "\n",
            "12.2.3 Correferência, Anáfora e Catáfora\n",
            "Para o entendimento sobre o que é correferência, é relevante também definirmos anáfora, já que seus conceitos estão relacionados. Anáfora pode ser definida como a retomada de uma expressão apresentada anteriormente em um texto. Quando uma entidade é mencionada pela primeira vez textualmente, temos a evocação da entidade. Durante a leitura da sequência do texto, quando essa entidade é novamente mencionada, temos a realização do acesso a essa entidade. A expressão que faz o acesso é dita como anafórica, e a expressão anterior é dita como seu antecedente (Vieira; Gonçalves; Souza, 2012). Há casos de anáfora em que o termo anafórico e o antecedente são correferentes, isto é, remetem a uma mesma entidade (como os Exemplos “r” e “s” ilustram), mas há também casos de anáfora sem correferência, como podemos ver em “t”.\n",
            "\n",
            "A Ana comprou um cão. O animal já conhece todos os cantos da casa. Nesse exemplo, o termo anafórico é o grupo nominal “o animal”, que retoma o valor referencial do antecedente, “o cão”. É a relação entre “cão” e “animal” que suporta a correferência.\n",
            "Maria está com febre. Acho que ela está doente. Notemos que a interpretação referencial do sintagma nominal “ela” depende da sua relação anafórica com o sintagma nominal “Maria”.\n",
            "João faz 18 anos no dia 2 de Julho de 2001. No dia seguinte, parte para uma grande viagem pela Europa. Já nesse caso, o valor referencial da expressão sublinhada constrói-se a partir da interpretação do antecedente, a expressão adverbial temporal “no dia 2 de Julho de 2001”. Assim, “No dia seguinte” designa o dia 3 de Julho de 2001.\n",
            "\n",
            "Catáfora: semelhante à anáfora mas em ordem oposta, uma relação catafórica ocorre quando um termo se refere a outro que vem à frente e lhe dá, a partir deste, o seu sentido. Conforme podemos ver no exemplo “u”:\n",
            "\n",
            "A mãe olhou-o e disse: - Meu filho, estás com um olhar cansado.\n",
            "\n",
            "Correferência: é um fenômeno que ocorre quando duas ou mais menções em um discurso referem-se a uma mesma entidade. O conjunto de menções a uma mesma entidade no texto é denominado de cadeia de correferência.\n",
            "\n",
            "O João está doente. Vi-o na semana passada. Neste caso, o pronome “o” é uma anáfora de “João”, pois, para ser compreendido, necessita resgatar a frase anterior para que seu significado seja construído.\n",
            "Temos também o tipo aposto, que ocorre quando o termo da oração se relaciona a uma entidade para esclarecê-la ou explicá-la, como em “w” e “x”.\n",
            "Cubatão, a cidade mais poluída do Brasil, localiza-se na Baixada Santista.\n",
            "Maria comprou várias frutas: mamão, melancia, abacate e uva. Normalmente, o aposto aparece isolado por sinais de pontuação, sendo mais comum aparecer entre vírgulas ou então introduzido por dois pontos. Nos exemplos acima podemos notar que “cidade” é correferente de “Cubatão”, e “mamão, melancia, abacate e uva” são correferentes de “frutas”.\n",
            "(extraído do corpus Summ-it (Collovini et al., 2007)) “A discussão sobre a biotecnologia nacional está enviesada, pois está sendo entendida como sinônimo de transgenia. A opinião é de Miguel Guerra, da UFSC (Universidade Federal de Santa Catarina). Guerra participou do debate”Biotecnologia para uma Agricultura Sustentável”... Para o agrônomo, o Brasil deve buscar o desenvolvimento de transgenias que tentem melhorar as condições da agricultura local...”\n",
            "\n",
            "No exemplo “y”, as expressões “Guerra” e “o agrônomo” fazem referência à entidade “Miguel Guerra”, já mencionada anteriormente no texto. Para não repetir a mesma expressão, faz-se uso de outra diferente, mas que retoma a mesma entidade mencionada previamente. Esse é um método muito utilizado no processo de escrita para não deixar o texto repetitivo, e está diretamente relacionado a coesão referencial e sequencial. Notemos que a coesão referencial é responsável por criar um sistema de relações entre as menções dentro de um texto, permitindo que o leitor identifique termos e expressões que remetem a uma mesma entidade. Junto a isso temos também a coesão sequencial, responsável por criar condições que auxiliam na progressão textual. De forma geral, as flexões de tempo, as de modo dos verbos e as conjunções são mecanismos responsáveis pela coesão sequencial e auxiliam na coesão referencial.\n",
            "Esses fatores inferem diretamente nas dificuldades existentes na tarefa de resolução de correferência, dado que estão relacionados diretamente a questões linguísticas e a habilidades cognitivas humanas complexas, de difícil reprodução por sistemas computacionais. Em poucas palavras, o desafio é: como inferir computacionalmente que a palavra “agrônomo”, que está sendo citada dois parágrafos abaixo da expressão “o agrônomo Miguel Guerra”, está se referindo a esta entidade e não a uma outra?\n",
            "Portanto, o conjunto dessas expressões referenciais relativas a uma mesma entidade de mundo denomina-se cadeia de correferência. Esse conjunto é responsável pela construção coesa de um texto e por isso sua importância, já que a coesão é responsável pela compreensão textual. No exemplo “y”, podemos afirmar que “Miguel Guerra” é o antecedente e “Guerra” é a anáfora. Dessa forma, expressões correferentes fazem referência à mesma entidade, enquanto expressões anafóricas e catafóricas podem retomar uma referência ou ativar um novo referente. Anáfora e catáfora pressupõem um par ordenado, enquanto que a correferência remete à ideia de conjunto (Poesio; Stuckardt; Versley, 2016).\n",
            "-----------------------------\n",
            "\n",
            "Texto corrigido:\n",
            "\n",
            "Considere o seguinte texto sobre PLN:\n",
            "\n",
            "'12.2.3 Correferência, Anáfora e Catáfora\n",
            "Para o entendimento sobre o que é correferência, é relevante também definirmos anáfora, já que seus conceitos estão relacionados. Anáfora pode ser definida como a retomada de uma expressão apresentada anteriormente em um texto. Quando uma entidade é mencionada pela primeira vez textualmente, temos a evocação da entidade. Durante a leitura da sequência do texto, quando essa entidade é novamente mencionada, temos a realização do acesso a essa entidade. A expressão que faz o acesso é dita como anafórica, e a expressão anterior é dita como seu antecedente (Vieira; Gonçalves; Souza, 2012). Há casos de anáfora em que o termo anafórico e o antecedente são correferentes, isto é, remetem a uma mesma entidade (como os exemplos “r” e “s” ilustram), mas há também casos de anáfora sem correferência, como podemos ver em “t”.\n",
            "A Ana comprou um cão. O animal já conhece todos os cantos da casa. Nesse exemplo, o termo anafórico é o grupo nominal “o animal”, que retoma o valor referencial do antecedente, “o cão”. É a relação entre “cão” e “animal” que suporta a correferência.\n",
            "Maria está com febre. Acho que ela está doente. Notemos que a interpretação referencial do sintagma nominal “ela” depende da sua relação anafórica com o sintagma nominal “Maria”.\n",
            "João faz 18 anos no dia 2 de Julho de 2001. No dia seguinte, parte para uma grande viagem pela Europa. Já nesse caso, o valor referencial da expressão sublinhada constrói-se a partir da interpretação do antecedente, a expressão adverbial temporal “no dia 2 de Julho de 2001”. Assim, “No dia seguinte” designa o dia 3 de Julho de 2001.\n",
            "Catáfora: semelhante à anáfora, mas em ordem oposta, uma relação catafórica ocorre quando um termo se refere a outro que vem à frente e lhe dá, a partir deste, o seu sentido. Conforme podemos ver no exemplo “u”:\n",
            "A mãe olhou-o e disse: - Meu filho, estás com um olhar cansado.\n",
            "Correferência: é um fenômeno que ocorre quando duas ou mais menções em um discurso referem-se a uma mesma entidade. O conjunto de menções a uma mesma entidade no texto é denominado de cadeia de correferência.\n",
            "O João está doente. Vi-o na semana passada. Neste caso, o pronome “o” é uma anáfora de “João”, pois, para ser compreendido, necessita resgatar a frase anterior para que seu significado seja construído.\n",
            "Temos também o tipo aposto, que ocorre quando o termo da oração se relaciona a uma entidade para esclarecê-la ou explicá-la, como em “w” e “x”.\n",
            "Cubatão, a cidade mais poluída do Brasil, localiza-se na Baixada Santista.\n",
            "Maria comprou várias frutas: mamão, melancia, abacate e uva. Normalmente, o aposto aparece isolado por sinais de pontuação, sendo mais comum aparecer entre vírgulas ou então introduzido por dois pontos. Nos exemplos acima, podemos notar que “cidade” é correferente de “Cubatão”, e “mamão, melancia, abacate e uva” são correferentes de “frutas”.\n",
            "(extraído do corpus Summ-it (Collovini et al., 2007)) “A discussão sobre a biotecnologia nacional está enviesada, pois está sendo entendida como sinônimo de transgenia. A opinião é de Miguel Guerra, da UFSC (Universidade Federal de Santa Catarina). Guerra participou do debate”Biotecnologia para uma Agricultura Sustentável”... Para o agrônomo, o Brasil deve buscar o desenvolvimento de transgenias que tentem melhorar as condições da agricultura local...”\n",
            "No exemplo “y”, as expressões “Guerra” e “o agrônomo” fazem referência à entidade “Miguel Guerra”, já mencionada anteriormente no texto. Para não repetir a mesma expressão, faz-se uso de outra diferente, mas que retoma a mesma entidade mencionada previamente. Esse é um método muito utilizado no processo de escrita para não deixar o texto repetitivo e está diretamente relacionado à coesão referencial e sequencial. Notemos que a coesão referencial é responsável por criar um sistema de relações entre as menções dentro de um texto, permitindo que o leitor identifique termos e expressões que remetem a uma mesma entidade. Junto a isso, temos também a coesão sequencial, responsável por criar condições que auxiliam na progressão textual. De forma geral, as flexões de tempo, as de modo dos verbos e as conjunções são mecanismos responsáveis pela coesão sequencial e auxiliam na coesão referencial.\n",
            "Esses fatores interferem diretamente nas dificuldades existentes na tarefa de resolução de correferência, dado que estão relacionados diretamente a questões linguísticas e a habilidades cognitivas humanas complexas, de difícil reprodução por sistemas computacionais. Em poucas palavras, o desafio é: como inferir computacionalmente que a palavra “agrônomo”, que está sendo citada dois parágrafos abaixo da expressão “o agrônomo Miguel Guerra”, está se referindo a esta entidade e não a outra?\n",
            "Portanto, o conjunto dessas expressões referenciais relativas a uma mesma entidade de mundo denomina-se cadeia de correferência. Esse conjunto é responsável pela construção coesa de um texto e, por isso, sua importância, já que a coesão é responsável pela compreensão textual. No exemplo “y”, podemos afirmar que “Miguel Guerra” é o antecedente e “Guerra” é a anáfora. Dessa forma, expressões correferentes fazem referência à mesma entidade, enquanto expressões anafóricas e catafóricas podem retomar uma referência ou ativar um novo referente. Anáfora e catáfora pressupõem um par ordenado, enquanto a correferência remete à ideia de conjunto (Poesio; Stuckardt; Versley, 2016).'\n",
            "\n",
            "\n",
            "-----------------------------\n",
            "\n",
            "Texto resumido:\n",
            "\n",
            "\n",
            "O texto discute os conceitos de correferência, anáfora e catáfora. Anáfora é a retomada de uma expressão anterior em um texto, enquanto catáfora ocorre quando um termo se refere a outro que vem à frente e lhe dá sentido. Correferência acontece quando duas ou mais menções referem-se à mesma entidade. A resolução de correferência é um desafio para sistemas computacionais, pois envolve questões linguísticas e habilidades cognitivas complexas. A coesão referencial e sequencial são importantes para a compreensão textual. O conjunto de expressões que se referem a uma mesma entidade é chamado de cadeia de correferência.\n",
            "\n",
            "\n",
            "-----------------------------\n",
            "\n",
            "Palavras-chave:\n",
            "\n",
            "\n",
            "As palavras-chave mais importantes do texto são: correferência, anáfora, catáfora, coesão referencial, coesão sequencial.\n",
            "Analizando seção 12.2.5...\n",
            "Texto original:\n",
            "\n",
            "12.2.5 Correferência, coerência e coesão\n",
            "Quando lidamos com a resolução de correferência, existem características que geralmente ficam implícitas em textos bem escritos e estruturados, mas que merecem atenção, dado que influenciam diretamente na obtenção de bons resultados. Dentro desse contexto, temos a coerência e a coesão textual. De acordo com Koch; Travaglia (2012) a coerência textual é algo que tem a ver com a boa formação do texto, não em um sentido gramatical, mas sim em nível de interlocução. A coerência é algo que se estabelece na interação, na interlocução ou em uma situação comunicativa entre duas pessoas. Em poucas palavras, a coerência é o que faz com que o texto tenha sentido, devendo ser vista como um princípio de interpretabilidade do texto e também com a capacidade que o leitor possui para calcular seu significado. A coerência é vista também como uma continuidade de sentidos perceptíveis no texto, a qual resulta em uma conexão conceitual cognitiva entre os elementos do texto. Como podemos perceber, a coerência é, ao mesmo tempo, semântica e pragmática aplicadas, pois a forma como construímos nossas ideias pode variar, de acordo com nosso conhecimento de mundo.\n",
            "Paralelamente ao conceito de coerência temos a coesão. Ao contrário da coerência, a coesão é explicitamente revelada por meio de marcas linguísticas, sendo de caráter linear, dado que manifesta-se na organização sequencial de um texto. Em poucas palavras, a coesão está muito mais ligada à sintaxe e à gramática. Notemos que esses conceitos são muito importantes para a tarefa de Resolução de Correferência, dado que a correferência de um termo e seu antecedente é guiada por essa construção de ideias.\n",
            "-----------------------------\n",
            "\n",
            "Texto corrigido:\n",
            "\n",
            "12.2.5 Correferência, coerência e coesão\n",
            "Quando lidamos com a resolução de correferência, existem características que geralmente ficam implícitas em textos bem escritos e estruturados, mas que merecem atenção, dado que influenciam diretamente na obtenção de bons resultados. Dentro desse contexto, temos a coerência e a coesão textual. De acordo com Koch; Travaglia (2012), a coerência textual é algo que tem a ver com a boa formação do texto, não em um sentido gramatical, mas sim em nível de interlocução. A coerência é algo que se estabelece na interação, na interlocução ou em uma situação comunicativa entre duas pessoas. Em poucas palavras, a coerência é o que faz com que o texto tenha sentido, devendo ser vista como um princípio de interpretabilidade do texto e também com a capacidade que o leitor possui para calcular seu significado. A coerência é vista também como uma continuidade de sentidos perceptíveis no texto, a qual resulta em uma conexão conceitual cognitiva entre os elementos do texto. Como podemos perceber, a coerência é, ao mesmo tempo, semântica e pragmática aplicadas, pois a forma como construímos nossas ideias pode variar, de acordo com nosso conhecimento de mundo.\n",
            "Paralelamente ao conceito de coerência, temos a coesão. Ao contrário da coerência, a coesão é explicitamente revelada por meio de marcas linguísticas, sendo de caráter linear, dado que se manifesta na organização sequencial de um texto. Em poucas palavras, a coesão está muito mais ligada à sintaxe e à gramática. Notemos que esses conceitos são muito importantes para a tarefa de Resolução de Correferência, dado que a correferência de um termo e seu antecedente é guiada por essa construção de ideias.\n",
            "\n",
            "\n",
            "-----------------------------\n",
            "\n",
            "Texto resumido:\n",
            "\n",
            "\n",
            "O texto aborda a importância da coerência e coesão no contexto da resolução de correferência. A coerência textual envolve a formação do texto, sua interpretabilidade e conexão conceitual entre os elementos do texto. Já a coesão é revelada por marcas linguísticas e está relacionada à organização sequencial e à sintaxe do texto. Ambos os conceitos são essenciais para a tarefa de resolução de correferência.\n",
            "\n",
            "\n",
            "-----------------------------\n",
            "\n",
            "Palavras-chave:\n",
            "\n",
            "\n",
            "Palavras-chave: correferência, coerência, coesão, texto, interpretabilidade, significado.\n",
            "Analizando seção 14.1.2 ...\n",
            "Texto original:\n",
            "\n",
            "\n",
            "-----------------------------\n",
            "\n",
            "Texto corrigido:\n",
            "\n",
            "\n",
            "-----------------------------\n",
            "\n",
            "Texto resumido:\n",
            "\n",
            "\n",
            "\n",
            "''O Processamento de Linguagem Natural (PLN) é um componente importante da inteligência artificial que envolve a interação entre humanos e máquinas através da linguagem natural. O objetivo do PLN é capacitar as máquinas a entender, interpretar e responder aos comandos e perguntas escritas e faladas pelos humanos. O PLN envolve várias tarefas, como reconhecimento de fala, análise sintática, extração de informações e geração de respostas automáticas. O PLN é usado em várias aplicações, como assistentes virtuais, chatbots, tradutores automáticos e análise de sentimentos em textos. O desenvolvimento do PLN é um desafio, pois a linguagem natural apresenta ambiguidades, variações e complexidades. No entanto, avanços recentes na área têm permitido melhorias significativas no desempenho das aplicações de PLN.''\n",
            "\n",
            "\n",
            "-----------------------------\n",
            "\n",
            "Palavras-chave:\n",
            "\n",
            "\n",
            "\n",
            "Palavras-chaves: Processamento de Linguagem Natural (PLN), inteligência artificial, interação, linguagem natural, reconhecimento de fala, análise sintática, extração de informações, geração de respostas automáticas, assistentes virtuais, chatbots, tradutores automáticos, análise de sentimentos em textos, desafio, ambiguidades, variações, complexidades, avanços, desempenho.\n",
            "Analizando seção 14.4.1 ...\n",
            "Texto original:\n",
            "\n",
            "\n",
            "-----------------------------\n",
            "\n",
            "Texto corrigido:\n",
            "\n",
            "Responda, corrigindo os erros de português do texto. Em seguida, escreva '\n",
            "-----------------------------\n",
            "\n",
            "Texto resumido:\n",
            "\n",
            "' e resuma o texto. Depois, escreva novamente '\n",
            "-----------------------------\n",
            "\n",
            "Palavras-chave:\n",
            "\n",
            "' e responda quais as palavras-chave mais importantes do texto.\n",
            "\n",
            "-------------------------------\n",
            "\n",
            "Considere o seguinte texto sobre PLN:\n",
            "\n",
            "\"\"\n",
            "\n",
            "Responda, corrigindo os erros de português do texto. Em seguida, escreva '\n",
            "Analizando seção 14.4.6...\n",
            "Texto original:\n",
            "\n",
            "14.4.6 Ferramentas de anotação\n",
            "É importante contar com ferramentas que auxiliem o processo de anotação e revisão. Devido à expansão da atividade de anotação para além de tarefas estritamente linguísticas, há um grande número de ferramentas, algumas gratuitas, criadas para este fim. Em geral, a escolha da ferramenta é influenciada pela natureza da anotação ou da tarefa, e pontos para se levar em conta são:\n",
            "\n",
            "o formato dos arquivos de entrada e de saída;\n",
            "se a ferramenta suporta receber textos com outros tipos de anotação, ou apenas o texto cru que será anotado;\n",
            "se é possível corrigir (ou editar) anotações usando regras/padrões linguísticos, ou a revisão/edição só pode ser feita caso a caso;\n",
            "se há diferentes maneiras de visualizar os textos que serão anotados;\n",
            "se há opção de atalhos usando teclado (precisar clicar para anotar, apesar de aparentemente mais fácil, é pouco produtivo para a maioria das pessoas que anotam);\n",
            "se é possível trabalhar online ou apenas localmente;\n",
            "se a ferramenta suporta diferentes anotadores trabalhando simultaneamente;\n",
            "se a ferramenta é customizável;\n",
            "o tempo de familiarização necessário para começar a usar.\n",
            "\n",
            "Em geral, teremos sempre uma tensão entre uma ferramenta com várias funcionalidades, mas cuja utilização é mais difícil, e uma ferramenta mais fácil de usar, mas que oferece menos funcionalidades. Alguns exemplos de ferramentas são\n",
            "\n",
            "BRAT22: para anotação de entidades mencionadas, correferência, dependências sintáticas, entre outras.\n",
            "Label Studio23: para anotação de entidades mencionadas, perguntas e respostas, análise de sentimento, entre outras.\n",
            "Inception24: para diversos tipos de anotação semântica e discursiva.\n",
            "WebAnno25: para anotação morfológica, sintática e semântica.\n",
            "Arborator26: para anotar e buscar dependências sintáticas em formato UD.\n",
            "ET: dois ambientes integrados para buscar, revisar e avaliar dependências sintáticas em formato UD: Interrogatório27, para buscar e revisar anotações e Julgamento28, para avaliar .\n",
            "-----------------------------\n",
            "\n",
            "Texto corrigido:\n",
            "\n",
            "Corrigindo os erros de português do texto:\n",
            "\n",
            "'14.4.6 Ferramentas de anotação\n",
            "É importante contar com ferramentas que auxiliem o processo de anotação e revisão. Devido à expansão da atividade de anotação para além de tarefas estritamente linguísticas, há um grande número de ferramentas, algumas gratuitas, criadas para este fim. Em geral, a escolha da ferramenta é influenciada pela natureza da anotação ou da tarefa, e pontos para se levar em conta são:\n",
            "\n",
            "- o formato dos arquivos de entrada e de saída;\n",
            "- se a ferramenta suporta receber textos com outros tipos de anotação, ou apenas o texto cru que será anotado;\n",
            "- se é possível corrigir (ou editar) anotações usando regras/padrões linguísticos, ou a revisão/edição só pode ser feita caso a caso;\n",
            "- se há diferentes maneiras de visualizar os textos que serão anotados;\n",
            "- se há opção de atalhos usando teclado (precisar clicar para anotar, apesar de aparentemente mais fácil, é pouco produtivo para a maioria das pessoas que anotam);\n",
            "- se é possível trabalhar online ou apenas localmente;\n",
            "- se a ferramenta suporta diferentes anotadores trabalhando simultaneamente;\n",
            "- se a ferramenta é customizável;\n",
            "- o tempo de familiarização necessário para começar a usar.\n",
            "\n",
            "Em geral, sempre teremos uma tensão entre uma ferramenta com várias funcionalidades, mas cuja utilização é mais difícil, e uma ferramenta mais fácil de usar, mas que oferece menos funcionalidades. Alguns exemplos de ferramentas são:\n",
            "\n",
            "- BRAT22: para anotação de entidades mencionadas, correferência, dependências sintáticas, entre outras.\n",
            "- Label Studio23: para anotação de entidades mencionadas, perguntas e respostas, análise de sentimento, entre outras.\n",
            "- Inception24: para diversos tipos de anotação semântica e discursiva.\n",
            "- WebAnno25: para anotação morfológica, sintática e semântica.\n",
            "- Arborator26: para anotar e buscar dependências sintáticas em formato UD.\n",
            "- ET: dois ambientes integrados para buscar, revisar e avaliar dependências sintáticas em formato UD: Interrogatório27, para buscar e revisar anotações, e Julgamento28, para avaliar.'\n",
            "\n",
            "\n",
            "-----------------------------\n",
            "\n",
            "Texto resumido:\n",
            "\n",
            "\n",
            "\n",
            "Sumarização do texto: O texto fala sobre a importância de utilizar ferramentas de anotação e revisão no processamento de linguagem natural (PLN). Destaca-se que existem várias ferramentas disponíveis, algumas gratuitas, que podem auxiliar nesse processo. A escolha da ferramenta deve levar em conta aspectos como o formato dos arquivos, a possibilidade de corrigir anotações com base em regras linguísticas, diferentes formas de visualização dos textos, opção de atalhos no teclado, suporte para trabalho online ou local, possibilidade de colaboração simultânea de anotadores, customização da ferramenta e tempo de familiarização necessário. O texto também apresenta alguns exemplos de ferramentas de anotação como BRAT, Label Studio, Inception, WebAnno, Arborator e ET.\n",
            "\n",
            "\n",
            "-----------------------------\n",
            "\n",
            "Palavras-chave:\n",
            "\n",
            "\n",
            "\n",
            "Palavras-chave mais importantes: ferramentas de anotação, revisão, processo, linguagem natural, formato dos arquivos, corrigir anotações, visualização dos textos, atalhos no teclado, trabalho online, colaboração simultânea, customização, familiarização, BRAT, Label Studio, Inception, WebAnno, Arborator, ET.\n"
          ]
        }
      ]
    }
  ]
}