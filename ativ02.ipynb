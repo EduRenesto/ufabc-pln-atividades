{
  "nbformat": 4,
  "nbformat_minor": 0,
  "metadata": {
    "colab": {
      "provenance": [],
      "collapsed_sections": [
        "D7hJlilKM485"
      ]
    },
    "kernelspec": {
      "name": "python3",
      "display_name": "Python 3"
    }
  },
  "cells": [
    {
      "cell_type": "markdown",
      "metadata": {
        "id": "Y6QILOdpOjwv"
      },
      "source": [
        "# **Processamento de Linguagem Natural [2023.Q3]**\n",
        "Prof. Alexandre Donizeti Alves"
      ]
    },
    {
      "cell_type": "markdown",
      "metadata": {
        "id": "8m67OOx9MX_3"
      },
      "source": [
        "### **ATIVIDADE PRÁTICA 02 [Extração e Pré-processamento de Dados + Expressões Regulares]**\n"
      ]
    },
    {
      "cell_type": "markdown",
      "metadata": {
        "id": "5Gk0nHKabBT-"
      },
      "source": [
        "A **ATIVIDADE PRÁTICA 02** deve ser feita utilizando o **Google Colab** com uma conta\n",
        "sua vinculada ao Gmail. O link do seu notebook, armazenado no Google Drive, além do link de um repositório no GitHub e os principais resultados da atividade, devem ser enviados usando o seguinte formulário:\n",
        "\n",
        "> https://forms.gle/83JggUJ1mhgWviEaA\n",
        "\n",
        "\n",
        "**IMPORTANTE**: A submissão deve ser feita até o dia 20/10 (sexta-feira) APENAS POR UM INTEGRANTE DA EQUIPE, até às 23h59. Por favor, lembre-se de dar permissão de ACESSO IRRESTRITO para o professor da disciplina de PLN."
      ]
    },
    {
      "cell_type": "markdown",
      "metadata": {
        "id": "D7hJlilKM485"
      },
      "source": [
        "### **EQUIPE**\n",
        "\n",
        "---"
      ]
    },
    {
      "cell_type": "markdown",
      "source": [
        "**POR FAVOR, PREENCHER OS INTEGRANDES DA SUA EQUIPE:**\n",
        "\n",
        "\n",
        "**Integrante 01:** Eduardo Renesto Estanquiere - 11201810086"
      ],
      "metadata": {
        "id": "tnIArN0QY-Ek"
      }
    },
    {
      "cell_type": "markdown",
      "source": [
        "### **LIVRO**\n",
        "---"
      ],
      "metadata": {
        "id": "6yExhaebs-nD"
      }
    },
    {
      "cell_type": "markdown",
      "source": [
        "`Processamento de Linguagem Natural - Conceitos, Técnicas e Aplicações em Português.`\n",
        "\n",
        ">\n",
        "\n",
        "Disponível gratuitamente em:\n",
        "  \n",
        "  > https://brasileiraspln.com/livro-pln/1a-edicao/.\n",
        "\n",
        "\n",
        "**POR FAVOR, PREENCHER OS CAPITULOS SELECIONADOS PARA A SUA EQUIPE:**\n",
        "\n",
        "`Primeiro capítulo: 12`\n",
        "\n",
        "`Segundo capítulo: 14`\n",
        "\n"
      ],
      "metadata": {
        "id": "DjJM_qhEZRy6"
      }
    },
    {
      "cell_type": "markdown",
      "metadata": {
        "id": "EtjgWQRzNphL"
      },
      "source": [
        "### **DESCRIÇÃO**\n",
        "---"
      ]
    },
    {
      "cell_type": "markdown",
      "source": [
        "Implementar um `notebook` no `Google Colab` para identificar ERROS em 2 (DOIS) capítulos do livro **Processamento de Linguagem Natural - Conceitos, Técnicas e Aplicações em Português**.\n",
        "\n",
        "Os capítulos devem ser selecionados na seguinte planilha:\n",
        "\n",
        "https://docs.google.com/spreadsheets/d/1ZutzQ3v1OJgsgzCvCwxXlRIQ3ChXNlHNvB63JQvYsbo/edit?usp=sharing\n",
        "\n",
        ">\n",
        "\n",
        "**IMPORTANTE:** É obrigatório usar o e-mail da UFABC.\n",
        "\n",
        ">\n",
        "\n",
        "\n",
        "**DICA:** Por favor, insira o seu nome ou da sua equipe na ordem definida na planilha. Por exemplo, se a linha correspondente ao o GRUPO 5 já foi preenchida, a próxima equipe (GRUPO 6) deverá ser informada na próxima linha da planilha.\n",
        "\n"
      ],
      "metadata": {
        "id": "fXTwkiiGs2BV"
      }
    },
    {
      "cell_type": "markdown",
      "source": [
        "### **TIPOS DE ERROS**\n",
        "---\n"
      ],
      "metadata": {
        "id": "eD_AJQhrwJQ6"
      }
    },
    {
      "cell_type": "markdown",
      "source": [
        "**IMPORTANTE**: consulta feita no ChatGPT\n",
        ">\n",
        "\n",
        "Um `programa Python` que utilize `expressões regulares` pode ajudar a identificar vários **tipos de erros** comuns em **livros**, especialmente erros de formatação e problemas relacionados à consistência do texto. Aqui estão alguns exemplos de erros comuns que podem ser identificados usando expressões regulares:\n",
        "\n",
        "* Erros de gramática e ortografia: erros de digitação, concordância verbal e nominal, uso incorreto de pontuação e outros erros gramaticais.\n",
        "\n",
        "* Problemas de formatação: você pode usar expressões regulares para encontrar erros de formatação, como espaços em excesso, tabulações inadequadas ou alinhamentos inconsistentes.\n",
        "\n",
        "* Abreviações e acrônimos: você pode usar expressões regulares para encontrar abreviações ou acrônimos que não foram definidos ou explicados anteriormente no texto.\n",
        "\n",
        "* Citações e referências: expressões regulares podem ser úteis para localizar citações ou referências que precisam de formatação especial.\n",
        "\n",
        "* OUTROS TIPOS DE ERROS: não considerem apenas os tipos de erros citados acima.\n",
        "\n",
        "\n",
        "**IMPORTANTE:** Lembre-se de que expressões regulares podem ser poderosas, mas também complexas. Dependendo da complexidade dos erros que você deseja identificar, pode ser necessário ajustar as expressões regulares de acordo com as características específicas do seu texto. Além disso, é importante ter em mente que as expressões regulares podem não ser a melhor ferramenta para todos os tipos de erros em livros, especialmente problemas mais contextuais ou semânticos, que podem exigir abordagens de PLN mais avançadas.\n",
        "\n",
        "\n",
        "\n"
      ],
      "metadata": {
        "id": "gz0DTI0KYmn6"
      }
    },
    {
      "cell_type": "markdown",
      "source": [
        "### **CRITÉRIOS DE AVALIAÇÃO**\n",
        "---\n"
      ],
      "metadata": {
        "id": "gWsBYQNtxmum"
      }
    },
    {
      "cell_type": "markdown",
      "source": [
        "A equipe que **realizar mais testes** e/ou **identificar mais erros** terá o peso diminuido na AVALIAÇÃO (Prova Escrita) em **25%** (caindo de 40 para 30). Os testes e possíveis erros devem ser contabizados de maneira separada.\n",
        "\n",
        ">\n",
        "\n",
        "Além disso, **por se tratar de um livro**, há um teste importante que deve ser feito. Lembre-se que o teste deve ser feito utilizando expressões regulares. A equipe que realizar esse teste, mesmo que o erro não ocorra nos capítulos selecionados, terá o peso diminuido na AVALIAÇÃO (Prova Escrita) em **25%** (caindo de 40 para 30).\n",
        "\n",
        "> A equipe pode considerar outros capítulos do livro para tentar identificar esse tipo de erro.\n",
        "\n",
        "**Se for a mesma equipe, o peso da avaliação será reduzido em 50% (caindo de 40 para 20)**.\n",
        "\n",
        ">\n",
        "\n",
        "**IMPORTANTE**: a diminuição no peso da AVALIAÇÃO será aplicado para todos os membros da equipe. Esse critério será aplicado apenas para uma equipe, considerando como critério de desempate a equipe que entregar primeiro a atividade no formulário.\n",
        "\n",
        "\n",
        "\n"
      ],
      "metadata": {
        "id": "5iHdx4BXYruQ"
      }
    },
    {
      "cell_type": "markdown",
      "source": [
        "### **IMPLEMENTAÇÃO**\n",
        "---"
      ],
      "metadata": {
        "id": "nw09lujGvfjc"
      }
    },
    {
      "cell_type": "markdown",
      "source": [
        "Antes de iniciar o processamento, vamos importar os pacotes necessários."
      ],
      "metadata": {
        "id": "XnVRMK7EBF1I"
      }
    },
    {
      "cell_type": "code",
      "source": [
        "import re\n",
        "import requests\n",
        "from bs4 import BeautifulSoup"
      ],
      "metadata": {
        "id": "oVFWqGe5owxP"
      },
      "execution_count": 1,
      "outputs": []
    },
    {
      "cell_type": "markdown",
      "source": [
        "Vamos escrever o código de uma maneira genérica. A função `check_text` irá receber um texto e uma lista de expressões regulares, e testar cada uma delas contra o texto.\n"
      ],
      "metadata": {
        "id": "4bvq9CAvBKVm"
      }
    },
    {
      "cell_type": "code",
      "source": [
        "def check_text(text, regexes):\n",
        "  compiled = [ re.compile(regex) for regex in regexes ]\n",
        "  matches = [ m for p in compiled for m in p.findall(text) ]\n",
        "\n",
        "  return matches"
      ],
      "metadata": {
        "id": "RyUailD5vi9E"
      },
      "execution_count": 33,
      "outputs": []
    },
    {
      "cell_type": "markdown",
      "source": [
        "A função `load_text` é responsável por extrair o conteúdo do capítulo dado pela URL passada como parâmetro. Utilizamos uma extensão do `BeautifulSoup` que nos permite utilizar seletores CSS para filtrar os elementos da DOM.\n",
        "\n",
        "Neste caso, espelhando a estrutura HTML do livro, queremos os parágrafos dentro das seções -- isto é, os elementos `p` que são filhos de elementos `section`. Com seletores CSS, podemos descrever tais elementos por `p > section`."
      ],
      "metadata": {
        "id": "Eo-K85AJCLgj"
      }
    },
    {
      "cell_type": "code",
      "source": [
        "def load_text(url):\n",
        "  headers = {\n",
        "      \"User-Agent\": \"Mozilla/5.0 (X11; Linux x86_64; rv:106.0) Gecko/20100101 Firefox/106.0\"\n",
        "  }\n",
        "\n",
        "  res = requests.get(url, headers=headers)\n",
        "  soup = BeautifulSoup(res.content)\n",
        "\n",
        "  paragraphs = soup.select(\"section > p\")\n",
        "\n",
        "  return \"\\n\".join([ p.text.strip() for p in paragraphs ])"
      ],
      "metadata": {
        "id": "jkH2O6w2pCxu"
      },
      "execution_count": 21,
      "outputs": []
    },
    {
      "cell_type": "markdown",
      "source": [
        "Agora, vamos chamar a função `load_text` para as URLs de cada um dos capítulos.\n",
        "\n",
        "Note que aqui é o único lugar que explicitamente nomeamos os capítulos. Ou seja, para que outros capítulos sejam testados, basta mudar a variável `CHAPTER_URLS`.\n",
        "\n",
        "Os textos dos capítulos serão armazenados na variável `chapter_texts`."
      ],
      "metadata": {
        "id": "Ru4mi0PyDY5R"
      }
    },
    {
      "cell_type": "code",
      "source": [
        "CHAPTER_URLS = [\n",
        "  (\"Capítulo 12\", \"https://brasileiraspln.com/livro-pln/1a-edicao/parte6/cap12/cap12.html\"),\n",
        "  (\"Capítulo 14\", \"https://brasileiraspln.com/livro-pln/1a-edicao/parte7/cap14/cap14.html\"),\n",
        "]\n",
        "\n",
        "chapter_texts = [ (url[0], load_text(url[1])) for url in CHAPTER_URLS ]"
      ],
      "metadata": {
        "id": "2EyRZCWCzQDx"
      },
      "execution_count": 26,
      "outputs": []
    },
    {
      "cell_type": "markdown",
      "source": [
        "Também seremos genéricos quanto as expressões regulares usadas.\n",
        "\n",
        "Para adicionar novos testes, basta adicionar novas expressões regulares à lista `REGEXES`."
      ],
      "metadata": {
        "id": "PzqEJXTkDzw_"
      }
    },
    {
      "cell_type": "code",
      "source": [
        "REGEXES = [\n",
        "    r\"[ ]{2,}\\w\",              # Vários espaços\n",
        "    r\"[A-Z][a-z]+[A-Z][a-z]+\", # \"Pascal Case\" (pode causar falsos positivos)\n",
        "    r\"\\([^\\.]*$\",              # Parênteses não fechados no mesmo parágrafo\n",
        "    r\"^[^\\(]*\\)$\",             # Parênteses não abertos no mesmo parágrafo\n",
        "    r\"[pP]ln\",                 # Abreviações incorretas (ie. fora do estilo) de PLN\n",
        "    r\"[nN][lL][pP]\",           # Abreviação em Inglês de PLN\n",
        "    r\"--\",                     # \"em dash\" usando o caractere incorreto (-- no lugar de —)\n",
        "    r\"\\w+ [-–] \\w+\",           # hífen (ou hífen estranho) usado como \"em dash\"\n",
        "    r\"^[a-z]\",                 # linha iniciada com letra minúscula\n",
        "    r\"\\.\\s+[a-z]+\",            # senteça iniciada com letra minúscula\n",
        "    r\"[^:\\.]$\",                # linha não terminada com ':' ou '.'\n",
        "    r\"\\s+[\\.:,]\",              # espaços antes de pontuação (pode causar falsos positivos por LaTeX no texto)\n",
        "]\n",
        "\n",
        "errors = [ (chapter[0], check_text(chapter[1], REGEXES)) for chapter in chapter_texts ]"
      ],
      "metadata": {
        "id": "rGMA70Uw0xWh"
      },
      "execution_count": 56,
      "outputs": []
    },
    {
      "cell_type": "code",
      "source": [
        "total_errors = 0\n",
        "\n",
        "for (ch_name, ch_errors) in errors:\n",
        "  print(f\"Erros no {ch_name}:\")\n",
        "  for err in ch_errors:\n",
        "    total_errors += 1\n",
        "    print(\"  -\", err)\n",
        "  print(f\"  ==> TOTAL: {len(ch_errors)} erros no capítulo\")\n",
        "\n",
        "print(\"----------\")\n",
        "print(f\"Tipos de erros checados: {len(REGEXES)}\")\n",
        "print(f\"Total de erros encontrados: {total_errors}\")"
      ],
      "metadata": {
        "colab": {
          "base_uri": "https://localhost:8080/"
        },
        "id": "3WFZ6Z0SEmw4",
        "outputId": "1f3152cb-3fe1-49a6-a1af-2ec410c4e0c4"
      },
      "execution_count": 57,
      "outputs": [
        {
          "output_type": "stream",
          "name": "stdout",
          "text": [
            "Erros no Capítulo 12:\n",
            "  - BiLateral\n",
            "  - NounPhrase\n",
            "  - temática – isto\n",
            "  - recursos - o\n",
            "  - . foi\n",
            "  - . teremos\n",
            "  -  ,\n",
            "  -  :\n",
            "  -  ,\n",
            "  -  ,\n",
            "  -  ,\n",
            "  ==> TOTAL: 11 erros no capítulo\n",
            "Erros no Capítulo 14:\n",
            "  - WinoBias\n",
            "  - WinoBias\n",
            "  - WinoBias\n",
            "  - WinoBias\n",
            "  - WinoBias\n",
            "  - WinoBias\n",
            "  - HateXplain\n",
            "  - HateXplain\n",
            "  - HateXplain\n",
            "  - PetroGold\n",
            "  - MacMorpho\n",
            "  - PetroGold\n",
            "  - variados – de\n",
            "  - explícita – por\n",
            "  - língua – modelos\n",
            "  - palavras – têm\n",
            "  - nós – dados\n",
            "  - corpus – palavra\n",
            "  - corpora – vem\n",
            "  - naturalidade - enunciados\n",
            "  - língua – é\n",
            "  - classificado – ou\n",
            "  - textos – um\n",
            "  - interpretativo – ainda\n",
            "  - nomeação – corpus\n",
            "  - dataset – também\n",
            "  - datatsets – corpora\n",
            "  - ouro – que\n",
            "  - tagset – previamente\n",
            "  - interessante – ou\n",
            "  - desafiadora – é\n",
            "  - propriamente – cada\n",
            "  - frase – cada\n",
            "  - modelos – melhor\n",
            "  - existência – alguma\n",
            "  - recursos – datasets\n",
            "  - PLN – tanto\n",
            "  - lo – e\n",
            "  - tarefas – quais\n",
            "  - linguagem – queremos\n",
            "  - indesejado – como\n",
            "  - outros – têm\n",
            "  - malaiala – mas\n",
            "  - datasets – especificamente\n",
            "  - público – obras\n",
            "  - dataset – que\n",
            "  - resultados – diferentes\n",
            "  - tipo – algumas\n",
            "  - tarefa – se\n",
            "  - linguística – de\n",
            "  - anotação – e\n",
            "  - ideal – é\n",
            "  - ocorrência – muitas\n",
            "  - erros – o\n",
            "  - exemplo – e\n",
            "  - isso – porque\n",
            "  - eficaz – uma\n",
            "  - adequadas – uma\n",
            "  - eficiência – chegar\n",
            "  - fim – e\n",
            "  - precisa – todas\n",
            "  - corretas – e\n",
            "  - abrangência – apesar\n",
            "  - história – para\n",
            "  - humana – ou\n",
            "  - avaliação – que\n",
            "  - ferramentas – é\n",
            "  - tarefa – na\n",
            "  - dispomos – ainda\n",
            "  - tímida – de\n",
            "  - sujeito – característica\n",
            "  - inglesa – dificulta\n",
            "  ==> TOTAL: 72 erros no capítulo\n",
            "----------\n",
            "Tipos de erros checados: 12\n",
            "Total de erros encontrados: 83\n"
          ]
        }
      ]
    }
  ]
}