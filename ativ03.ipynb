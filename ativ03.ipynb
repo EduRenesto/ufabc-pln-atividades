{
  "nbformat": 4,
  "nbformat_minor": 0,
  "metadata": {
    "colab": {
      "provenance": []
    },
    "kernelspec": {
      "name": "python3",
      "display_name": "Python 3"
    }
  },
  "cells": [
    {
      "cell_type": "markdown",
      "metadata": {
        "id": "Y6QILOdpOjwv"
      },
      "source": [
        "# **Processamento de Linguagem Natural [2023.Q3]**\n",
        "Prof. Alexandre Donizeti Alves"
      ]
    },
    {
      "cell_type": "markdown",
      "metadata": {
        "id": "8m67OOx9MX_3"
      },
      "source": [
        "### **ATIVIDADE PRÁTICA 03 [Tutorial sobre uma API]**\n",
        "\n",
        "---"
      ]
    },
    {
      "cell_type": "markdown",
      "metadata": {
        "id": "5Gk0nHKabBT-"
      },
      "source": [
        "A **ATIVIDADE PRÁTICA 03** deve ser feita utilizando o **Google Colab** com uma conta\n",
        "sua vinculada ao Gmail. O link do seu notebook, armazenado no Google Drive, além do link de um repositório no GitHub e os principais resultados da atividade, devem ser enviados usando o seguinte formulário:\n",
        "\n",
        "> https://forms.gle/nPsWnUuE5GCeXaiU8 (**AINDA EM CONSTRUÇÃO**)\n",
        "\n",
        "\n",
        "**IMPORTANTE**: A submissão deve ser feita APENAS POR UM INTEGRANTE DA EQUIPE até o dia 02/11 (quinta-feira - até às 23h59). Por favor, lembre-se de dar permissão de ACESSO IRRESTRITO para o professor da disciplina de PLN."
      ]
    },
    {
      "cell_type": "markdown",
      "metadata": {
        "id": "D7hJlilKM485"
      },
      "source": [
        "### **EQUIPE**\n",
        "\n",
        "---"
      ]
    },
    {
      "cell_type": "markdown",
      "source": [
        "**POR FAVOR, PREENCHER OS INTEGRANDES DA SUA EQUIPE:**\n",
        "\n",
        "\n",
        "**Integrante 01:** Eduardo Renesto Estanquiere - 11201810086"
      ],
      "metadata": {
        "id": "tnIArN0QY-Ek"
      }
    },
    {
      "cell_type": "markdown",
      "source": [
        "### **API**\n",
        "---"
      ],
      "metadata": {
        "id": "6yExhaebs-nD"
      }
    },
    {
      "cell_type": "markdown",
      "source": [
        "**QUAL A API SELECIONADA POR SUA EQUIPE?**\n",
        "\n",
        "`API: ` Last.fm\n",
        "\n",
        "`Site oficial: ` [Last.fm](https://last.fm)\n",
        "\n",
        "`Link para a documentação oficial:` [https://www.last.fm/api](https://www.last.fm/api)"
      ],
      "metadata": {
        "id": "DjJM_qhEZRy6"
      }
    },
    {
      "cell_type": "markdown",
      "metadata": {
        "id": "EtjgWQRzNphL"
      },
      "source": [
        "### **DESCRIÇÃO**\n",
        "---"
      ]
    },
    {
      "cell_type": "markdown",
      "source": [
        "Implementar um `notebook` no `Google Colab` para demonstrar passo a passo como usar uma determinada **API** em `Python`, ou seja, criar um **TUTORIAL** destacando desde a instalação e configuração da **API** até as principais finalidades. O **TUTORIAL** deve ser o mais completo possível, com diversos exemplos de uso e permitindo ser facilmente reproduzido.\n",
        "\n",
        "A **API** deve ser selecionada na seguinte planilha:\n",
        "\n",
        "https://docs.google.com/spreadsheets/d/1-Q1szJ3UmoE2_3LtcRQyqid5fPIcnpsR3XAPnoxLj2o/edit?usp=sharing\n",
        "\n",
        ">\n",
        "\n",
        "**IMPORTANTE:** É obrigatório usar o e-mail da UFABC.\n",
        "\n",
        ">\n",
        "\n",
        "**DICA:** Por favor, insira o seu nome ou da sua equipe na ordem definida na planilha. A escolha da **API** deve ser feita de acordo com a lista disponibilizada na planilha. Cada **API** só pode ser escolhida por, no **MÁXIMO**, 2 equipes."
      ],
      "metadata": {
        "id": "fXTwkiiGs2BV"
      }
    },
    {
      "cell_type": "markdown",
      "source": [
        "### **ROTEIRO PARA APRESENTAÇÃO DE UMA API**\n",
        "\n",
        "---\n",
        ">\n",
        "\n",
        "\n",
        "**IMPORTANTE**: consulta feita no ChatGPT\n",
        "\n",
        ">\n",
        "\n",
        "Como escrever um tutorial sobre uma API em Python usando o Google Colab com foco nas etapas essenciais. Aqui está um guia rápido:\n",
        "\n",
        ">\n",
        "\n",
        "* **Passo 01: Introdução**\n",
        "\n",
        "  >  Apresente a API que você está explicando.\n",
        "\n",
        "  >  Explique por que é útil ou relevante.\n",
        "\n",
        "* **Passo 02: Configuração no Google Colab**\n",
        "\n",
        "  > Explique como os leitores podem abrir um novo notebook no Google Colab.\n",
        "\n",
        "  > Mostre como importar bibliotecas necessárias.\n",
        "\n",
        "  > Instrua sobre como instalar quaisquer bibliotecas adicionais, se necessário.\n",
        "\n",
        "* **Passo 03: Autenticação (se aplicável)**\n",
        "\n",
        "  > Descreva como configurar a autenticação, caso a API exija.\n",
        "\n",
        "  > Forneça orientações sobre a obtenção de chaves de API ou tokens.\n",
        "\n",
        "* **Passo 04: Utilização Básica da API**\n",
        "\n",
        "  > Demonstre como fazer uma solicitação simples à API.\n",
        "\n",
        "  > Mostre como processar a resposta da API.\n",
        "\n",
        "* **Passo 05: Exemplos Práticos**\n",
        "\n",
        "  > Forneça exemplos práticos e úteis que os leitores podem seguir.\n",
        "\n",
        "  > Mostre como aplicar a API em cenários do mundo real.\n",
        "\n",
        "\n",
        "* **Passo 06: Considerações**\n",
        "\n",
        "  > Recapitule os principais pontos do tutorial.\n",
        "\n",
        "  > Incentive os leitores a explorar mais a API e experimentar por conta própria.\n",
        "\n",
        "* **Passo 07: Publicação**\n",
        "\n",
        "   > Considere compartilhar seu tutorial em plataformas como Medium, GitHub (obrigatório) ou seu blog pessoal.\n",
        "\n",
        "* **Passo 08: Promoção**\n",
        "\n",
        "  > Compartilhe seu tutorial nas redes sociais, grupos de desenvolvedores e fóruns relevantes.\n",
        "\n",
        "**IMPORTANTE**: Lembre-se de manter o tutorial curto e direto ao ponto. Use exemplos de código eficazes e forneça informações práticas que os leitores possam seguir facilmente. O Google Colab é uma ótima plataforma para compartilhar tutoriais, pois permite que os leitores executem o código diretamente no navegador.\n"
      ],
      "metadata": {
        "id": "wbICIIGcYPNf"
      }
    },
    {
      "cell_type": "markdown",
      "source": [
        "### **CRITÉRIOS DE AVALIAÇÃO**\n",
        "---\n"
      ],
      "metadata": {
        "id": "gWsBYQNtxmum"
      }
    },
    {
      "cell_type": "markdown",
      "source": [
        "As 3 equipes que **criarem os melhores tutoriais**  terão o peso diminuido na AVALIAÇÃO (Prova Escrita) em **25%** (caindo de 40 para 30).\n",
        "\n",
        "**IMPORTANTE**: a diminuição no peso da AVALIAÇÃO será aplicado para todos os membros da equipe.\n",
        "\n",
        "\n",
        "\n"
      ],
      "metadata": {
        "id": "5iHdx4BXYruQ"
      }
    },
    {
      "cell_type": "markdown",
      "source": [
        "### **TUTORIAL**\n",
        "---"
      ],
      "metadata": {
        "id": "nw09lujGvfjc"
      }
    },
    {
      "cell_type": "markdown",
      "source": [
        "**Last.fm**"
      ],
      "metadata": {
        "id": "5q9zcrJj0n4H"
      }
    },
    {
      "cell_type": "markdown",
      "source": [
        "**SUGESTÃO**: Usar o **ROTEIRO** para apresentação de uma **API**"
      ],
      "metadata": {
        "id": "AD7LiZNAaMzv"
      }
    },
    {
      "cell_type": "markdown",
      "source": [
        "#### **INTRODUÇÃO**"
      ],
      "metadata": {
        "id": "ZM2EJhRIaaa2"
      }
    },
    {
      "cell_type": "markdown",
      "source": [
        "**Descrição da API**"
      ],
      "metadata": {
        "id": "FjG5RIW5bMfd"
      }
    },
    {
      "cell_type": "markdown",
      "source": [
        "O *Last.fm* é uma rede social voltada para amantes da música. Hospeda uma enorme biblioteca de faixas, discos e artistas, onde cada entrada é catalogada com metadados e informações adicionais, além de permitir que usuários discutam sobre as mesmas.\n",
        "\n",
        "A principal funcionalidade do Last.fm é o *scrobble*. A cada música que um usuário escuta, seu player faz um *scrobble* e registra a audição na plataforma. Ao longo do tempo, os dados registrados permitem que um perfil do usuário seja construído, possibilitando a geração de históricos de escuta, recomendações de artistas, e descoberta de outros usuários com perfis musicais semelhantes.\n",
        "\n",
        "A API em questão permite interagir com grande parte da funcionalidade da plataforma. Neste tutorial, focaremos no acesso ao catálogo de músicas e em algumas funcionalidades relacionadas a perfis de usuário.\n",
        "\n",
        "\n"
      ],
      "metadata": {
        "id": "7kndSzDVbQkd"
      }
    },
    {
      "cell_type": "markdown",
      "source": [
        "#### **CONFIGURAÇÃO**"
      ],
      "metadata": {
        "id": "5DIH_lmdaqrh"
      }
    },
    {
      "cell_type": "markdown",
      "source": [
        "Importemos as seguintes bibliotecas:\n",
        "\n",
        "- `requests`: cliente HTTP, base da interação com a API\n",
        "- `json`: parser JSON, para interpretação dos resultados da API\n",
        "\n",
        "Também, definimos uma constante `BASE_URL` contendo o endereço base da API."
      ],
      "metadata": {
        "id": "GKdY4ZT6tSGi"
      }
    },
    {
      "cell_type": "code",
      "source": [
        "import requests\n",
        "import json\n",
        "import hashlib\n",
        "\n",
        "BASE_URL = \"https://ws.audioscrobbler.com/2.0\""
      ],
      "metadata": {
        "id": "oqM3mRBsbBYZ"
      },
      "execution_count": 13,
      "outputs": []
    },
    {
      "cell_type": "markdown",
      "source": [
        "#### **AUTENTICAÇÃO**"
      ],
      "metadata": {
        "id": "SwZgsj4narLo"
      }
    },
    {
      "cell_type": "markdown",
      "source": [
        "A utilização da API requer uma chave de autenticação. Para obter a chave de autenticação, é necessária uma *API Account*, que pode ser criada [no dashboard da API](https://www.last.fm/api/account/create).\n",
        "\n",
        "Após a criação da conta, serão fornecidos dois valores -- a *API Key*, e a *Shared Secret*, que devem ser copiadas nas variáveis globais `API_KEY` e `SHARED_SECRET`, respectivamente.\n",
        "\n",
        "**Nota para o professor**. Para fins de facilidade de correção/exploração, mantive as minhas chaves de acesso no notebook. Caso queria disponibilizar este notebook para os demais alunos, por favor remova os valores!!!"
      ],
      "metadata": {
        "id": "QSiutYwUt7wd"
      }
    },
    {
      "cell_type": "code",
      "source": [
        "API_KEY       = \"44aecac6f877a06ad14045d7b59a8663\"\n",
        "SHARED_SECRET = \"ea38eb51c4229603e2373b734caf8d04\""
      ],
      "metadata": {
        "id": "uzdu2MfwbA1R"
      },
      "execution_count": 14,
      "outputs": []
    },
    {
      "cell_type": "markdown",
      "source": [
        "#### **UTILIZAÇÃO BÁSICA**"
      ],
      "metadata": {
        "id": "ZjXBfNHwarfV"
      }
    },
    {
      "cell_type": "markdown",
      "source": [
        "Todas as funções são chamadas por meio de requisições `GET` no mesmo *endpoint* `BASE_URL`, e os parâmetros são passados por meio da *query string*, que é oportunamente construída pela própria biblioteca `requests` ao receber o argumento `params`.\n",
        "\n",
        "A diferenciação dos métodos é dada por meio do parâmetro `method` da requisição.\n",
        "\n",
        "Dado o formato comum das requisições à API, vamos escrever a função de utilidade `build_request_params` que recebe o nome do método, os argumentos específicos do mesmo, e devolve um dicionário com todos os parâmetros prontos para serem passados à API."
      ],
      "metadata": {
        "id": "YQv9b-6Yq4rK"
      }
    },
    {
      "cell_type": "code",
      "source": [
        "def build_request_params(method, args):\n",
        "  default_params = {\n",
        "    \"api_key\": API_KEY,\n",
        "    \"format\": \"json\",\n",
        "    \"method\": method\n",
        "  }\n",
        "\n",
        "  return { **default_params, **args }\n",
        "\n",
        "def get_artist(name):\n",
        "  params = build_request_params(\"artist.getinfo\", {\n",
        "      \"artist\": name\n",
        "  })\n",
        "\n",
        "  res = requests.get(BASE_URL, params)\n",
        "\n",
        "  return json.loads(res.content)"
      ],
      "metadata": {
        "id": "bNqB40PlbAWx"
      },
      "execution_count": 15,
      "outputs": []
    },
    {
      "cell_type": "markdown",
      "source": [
        "#### Álbuns"
      ],
      "metadata": {
        "id": "mkL9RoMFvQiz"
      }
    },
    {
      "cell_type": "markdown",
      "source": [
        "*Buscar informações*\n",
        "\n",
        "Busca informações básicas sobre um álbum."
      ],
      "metadata": {
        "id": "rRmh68a0vgKm"
      }
    },
    {
      "cell_type": "code",
      "source": [
        "def album_get_info(artist, album):\n",
        "  params = build_request_params(\"album.getinfo\", {\n",
        "      \"artist\": artist,\n",
        "      \"album\": album\n",
        "  })\n",
        "\n",
        "  res = requests.get(BASE_URL, params)\n",
        "\n",
        "  return json.loads(res.content)"
      ],
      "metadata": {
        "id": "ih3-Ls7RvvQ6"
      },
      "execution_count": 16,
      "outputs": []
    },
    {
      "cell_type": "markdown",
      "source": [
        "*Buscar tags*\n",
        "\n",
        "Busca todas as tags (gêneros) mais comuns de um álbum."
      ],
      "metadata": {
        "id": "xCPLtlDCv_BR"
      }
    },
    {
      "cell_type": "code",
      "source": [
        "def album_get_top_tags(artist, album):\n",
        "  params = build_request_params(\"album.gettoptags\", {\n",
        "      \"artist\": artist,\n",
        "      \"album\": album\n",
        "  })\n",
        "\n",
        "  res = requests.get(BASE_URL, params)\n",
        "\n",
        "  return json.loads(res.content)"
      ],
      "metadata": {
        "id": "vVA8Rj4QwhSc"
      },
      "execution_count": 18,
      "outputs": []
    },
    {
      "cell_type": "markdown",
      "source": [
        "*Buscar por nome*\n",
        "\n",
        "Busca um álbum por nome aproximado."
      ],
      "metadata": {
        "id": "3d9OkOXqBH0s"
      }
    },
    {
      "cell_type": "code",
      "source": [
        "def album_search(album):\n",
        "  params = build_request_params(\"album.search\", {\n",
        "      \"album\": album\n",
        "  })\n",
        "\n",
        "  res = requests.get(BASE_URL, params)\n",
        "\n",
        "  return json.loads(res.content)"
      ],
      "metadata": {
        "id": "fAZCJwKfwmTp"
      },
      "execution_count": 19,
      "outputs": []
    },
    {
      "cell_type": "markdown",
      "source": [
        "#### Artistas"
      ],
      "metadata": {
        "id": "O_SJY293w01H"
      }
    },
    {
      "cell_type": "markdown",
      "source": [
        "*Buscar correção*\n",
        "\n",
        "Busca um *nome canônico* para um artista."
      ],
      "metadata": {
        "id": "A6Ecb-gzBUwb"
      }
    },
    {
      "cell_type": "code",
      "source": [
        "def artist_get_correction(artist):\n",
        "  params = build_request_params(\"artist.getcorrection\", {\n",
        "      \"artist\": artist,\n",
        "  })\n",
        "\n",
        "  res = requests.get(BASE_URL, params)\n",
        "\n",
        "  return json.loads(res.content)"
      ],
      "metadata": {
        "id": "EahJS0AAw3Si"
      },
      "execution_count": 20,
      "outputs": []
    },
    {
      "cell_type": "markdown",
      "source": [
        "*Buscar informação*\n",
        "\n",
        "Busca informações básicas sobre um artista."
      ],
      "metadata": {
        "id": "fKBJ4rbfBbMK"
      }
    },
    {
      "cell_type": "code",
      "source": [
        "def artist_get_info(artist):\n",
        "  params = build_request_params(\"artist.getinfo\", {\n",
        "      \"artist\": artist,\n",
        "  })\n",
        "\n",
        "  res = requests.get(BASE_URL, params)\n",
        "\n",
        "  return json.loads(res.content)"
      ],
      "metadata": {
        "id": "kXJxpWypxDal"
      },
      "execution_count": 107,
      "outputs": []
    },
    {
      "cell_type": "markdown",
      "source": [
        "*Buscar artistas similares*\n",
        "\n",
        "Busca artistas similares ao desejado."
      ],
      "metadata": {
        "id": "PiOQQeiIBgt1"
      }
    },
    {
      "cell_type": "code",
      "source": [
        "def artist_get_similar(artist):\n",
        "  params = build_request_params(\"artist.getsimilar\", {\n",
        "      \"artist\": artist,\n",
        "  })\n",
        "\n",
        "  res = requests.get(BASE_URL, params)\n",
        "\n",
        "  return json.loads(res.content)"
      ],
      "metadata": {
        "id": "EtYfE7ltxHLK"
      },
      "execution_count": 22,
      "outputs": []
    },
    {
      "cell_type": "markdown",
      "source": [
        "*Busca álbuns*\n",
        "\n",
        "Busca os principais álbuns de um artista."
      ],
      "metadata": {
        "id": "YR-S4pK0BpWR"
      }
    },
    {
      "cell_type": "code",
      "source": [
        "def artist_get_top_albums(artist):\n",
        "  params = build_request_params(\"artist.gettopalbums\", {\n",
        "      \"artist\": artist,\n",
        "  })\n",
        "\n",
        "  res = requests.get(BASE_URL, params)\n",
        "\n",
        "  return json.loads(res.content)"
      ],
      "metadata": {
        "id": "v8nMnBiZxTlm"
      },
      "execution_count": 108,
      "outputs": []
    },
    {
      "cell_type": "markdown",
      "source": [
        "*Busca tags*\n",
        "\n",
        "Busca todas as tags mais comuns de um artista."
      ],
      "metadata": {
        "id": "wbmUdWBjBvQ0"
      }
    },
    {
      "cell_type": "code",
      "source": [
        "def artist_get_top_tags(artist):\n",
        "  params = build_request_params(\"artist.gettoptags\", {\n",
        "      \"artist\": artist,\n",
        "  })\n",
        "\n",
        "  res = requests.get(BASE_URL, params)\n",
        "\n",
        "  return json.loads(res.content)"
      ],
      "metadata": {
        "id": "uQ1vDLxAxYb5"
      },
      "execution_count": 25,
      "outputs": []
    },
    {
      "cell_type": "markdown",
      "source": [
        "*Busca faixas mais comuns*\n",
        "\n",
        "Busca as faixas mais populares de um artista."
      ],
      "metadata": {
        "id": "nsvYljBoB0ah"
      }
    },
    {
      "cell_type": "code",
      "source": [
        "def artist_get_top_tracks(artist):\n",
        "  params = build_request_params(\"artist.gettoptracks\", {\n",
        "      \"artist\": artist,\n",
        "  })\n",
        "\n",
        "  res = requests.get(BASE_URL, params)\n",
        "\n",
        "  return json.loads(res.content)"
      ],
      "metadata": {
        "id": "SpeTHMzAxco4"
      },
      "execution_count": 26,
      "outputs": []
    },
    {
      "cell_type": "markdown",
      "source": [
        "*Busca por nome*\n",
        "\n",
        "Busca um artista por nome aproximado."
      ],
      "metadata": {
        "id": "LBZlPhIJB8He"
      }
    },
    {
      "cell_type": "code",
      "source": [
        "def artist_search(artist):\n",
        "  params = build_request_params(\"artist.search\", {\n",
        "      \"artist\": artist,\n",
        "  })\n",
        "\n",
        "  res = requests.get(BASE_URL, params)\n",
        "\n",
        "  return json.loads(res.content)"
      ],
      "metadata": {
        "id": "6KCvf5e8xhOG"
      },
      "execution_count": 109,
      "outputs": []
    },
    {
      "cell_type": "markdown",
      "source": [
        "#### Biblioteca do usuário"
      ],
      "metadata": {
        "id": "yJmUw8SCytgn"
      }
    },
    {
      "cell_type": "markdown",
      "source": [
        "*Buscar artistas*\n",
        "\n",
        "Busca os artistas já escutados por um usuário."
      ],
      "metadata": {
        "id": "REV1HfDgCEbU"
      }
    },
    {
      "cell_type": "code",
      "source": [
        "def library_get_artists(username):\n",
        "  params = build_request_params(\"library.getartists\", {\n",
        "    \"user\": username\n",
        "  })\n",
        "\n",
        "  res = requests.get(BASE_URL, params)\n",
        "\n",
        "  return json.loads(res.content)"
      ],
      "metadata": {
        "id": "r4LyfAgSywdr"
      },
      "execution_count": 110,
      "outputs": []
    },
    {
      "cell_type": "markdown",
      "source": [
        "#### Tags"
      ],
      "metadata": {
        "id": "62d6jvCJzDFH"
      }
    },
    {
      "cell_type": "markdown",
      "source": [
        "*Busca informações*\n",
        "\n",
        "Busca informações básicas sobre uma tag."
      ],
      "metadata": {
        "id": "llR3fzTpCLon"
      }
    },
    {
      "cell_type": "code",
      "source": [
        "def tag_get_info(tag):\n",
        "  params = build_request_params(\"tag.getinfo\", {\n",
        "    \"tag\": tag\n",
        "  })\n",
        "\n",
        "  res = requests.get(BASE_URL, params)\n",
        "\n",
        "  return json.loads(res.content)"
      ],
      "metadata": {
        "id": "WuhgxneDzF4R"
      },
      "execution_count": 29,
      "outputs": []
    },
    {
      "cell_type": "markdown",
      "source": [
        "*Busca similares*\n",
        "\n",
        "Busca tags similares à desejada."
      ],
      "metadata": {
        "id": "pi4NdCvcCPKV"
      }
    },
    {
      "cell_type": "code",
      "source": [
        "def tag_get_similar(tag):\n",
        "  params = build_request_params(\"tag.getinfo\", {\n",
        "    \"tag\": tag\n",
        "  })\n",
        "\n",
        "  res = requests.get(BASE_URL, params)\n",
        "\n",
        "  return json.loads(res.content)"
      ],
      "metadata": {
        "id": "z6X3yr8lzdnU"
      },
      "execution_count": 30,
      "outputs": []
    },
    {
      "cell_type": "markdown",
      "source": [
        "*Busca álbuns mais comuns*\n",
        "\n",
        "Busca os álbuns mais comuns marcados com a tag desejada."
      ],
      "metadata": {
        "id": "hZkYSA8ZCa0H"
      }
    },
    {
      "cell_type": "code",
      "source": [
        "def tag_get_top_albums(tag):\n",
        "  params = build_request_params(\"tag.gettopalbums\", {\n",
        "    \"tag\": tag\n",
        "  })\n",
        "\n",
        "  res = requests.get(BASE_URL, params)\n",
        "\n",
        "  return json.loads(res.content)"
      ],
      "metadata": {
        "id": "Jh4Asl17ziyH"
      },
      "execution_count": 113,
      "outputs": []
    },
    {
      "cell_type": "markdown",
      "source": [
        "*Busca artistas mais comuns*\n",
        "\n",
        "Busca os artistas mais comuns marcados com a tag desejada."
      ],
      "metadata": {
        "id": "BL2eUjQsCffx"
      }
    },
    {
      "cell_type": "code",
      "source": [
        "def tag_get_top_artists(tag):\n",
        "  params = build_request_params(\"tag.gettopartists\", {\n",
        "    \"tag\": tag\n",
        "  })\n",
        "\n",
        "  res = requests.get(BASE_URL, params)\n",
        "\n",
        "  return json.loads(res.content)"
      ],
      "metadata": {
        "id": "3hRHfhbizmQT"
      },
      "execution_count": 32,
      "outputs": []
    },
    {
      "cell_type": "markdown",
      "source": [
        "*Busca faixas mais comuns*\n",
        "\n",
        "Busca as faixas mais comuns marcadas com a tag desejada."
      ],
      "metadata": {
        "id": "zoVECn2aCibG"
      }
    },
    {
      "cell_type": "code",
      "source": [
        "def tag_get_top_tracks(tag):\n",
        "  params = build_request_params(\"tag.gettoptracks\", {\n",
        "    \"tag\": tag\n",
        "  })\n",
        "\n",
        "  res = requests.get(BASE_URL, params)\n",
        "\n",
        "  return json.loads(res.content)"
      ],
      "metadata": {
        "id": "kPEmWx3Ozwac"
      },
      "execution_count": 33,
      "outputs": []
    },
    {
      "cell_type": "markdown",
      "source": [
        "#### Faixas"
      ],
      "metadata": {
        "id": "yeKpg-5Fz6Rw"
      }
    },
    {
      "cell_type": "markdown",
      "source": [
        "*Buscar correção*\n",
        "\n",
        "Busca um *nome canônico* para uma faixa."
      ],
      "metadata": {
        "id": "VghIFs3CCpXw"
      }
    },
    {
      "cell_type": "code",
      "source": [
        "def track_get_correction(artist, track):\n",
        "  params = build_request_params(\"track.getcorrection\", {\n",
        "    \"artist\": artist,\n",
        "    \"track\": track\n",
        "  })\n",
        "\n",
        "  res = requests.get(BASE_URL, params)\n",
        "\n",
        "  return json.loads(res.content)"
      ],
      "metadata": {
        "id": "M8kgx01kz7oQ"
      },
      "execution_count": 34,
      "outputs": []
    },
    {
      "cell_type": "markdown",
      "source": [
        "*Busca informações*\n",
        "\n",
        "Busca informações básicas sobre uma tag."
      ],
      "metadata": {
        "id": "kSuQpuUbCsVF"
      }
    },
    {
      "cell_type": "code",
      "source": [
        "def track_get_info(artist, track):\n",
        "  params = build_request_params(\"track.getinfo\", {\n",
        "    \"artist\": artist,\n",
        "    \"track\": track\n",
        "  })\n",
        "\n",
        "  res = requests.get(BASE_URL, params)\n",
        "\n",
        "  return json.loads(res.content)"
      ],
      "metadata": {
        "id": "DNcWzgb20Nwl"
      },
      "execution_count": 35,
      "outputs": []
    },
    {
      "cell_type": "markdown",
      "source": [
        "*Busca similares*\n",
        "\n",
        "Busca faixas similares à desejada."
      ],
      "metadata": {
        "id": "pEoRBDSiCwfa"
      }
    },
    {
      "cell_type": "code",
      "source": [
        "def track_get_similar(artist, track):\n",
        "  params = build_request_params(\"track.getsimilar\", {\n",
        "    \"artist\": artist,\n",
        "    \"track\": track\n",
        "  })\n",
        "\n",
        "  res = requests.get(BASE_URL, params)\n",
        "\n",
        "  return json.loads(res.content)"
      ],
      "metadata": {
        "id": "D65KwAu70Rh5"
      },
      "execution_count": 36,
      "outputs": []
    },
    {
      "cell_type": "markdown",
      "source": [
        "*Busca tags*\n",
        "\n",
        "Busca todas as tags mais comuns de uma faixa."
      ],
      "metadata": {
        "id": "pO1WuR_jC4Qo"
      }
    },
    {
      "cell_type": "code",
      "source": [
        "def track_get_top_tags(artist, track):\n",
        "  params = build_request_params(\"track.gettoptags\", {\n",
        "    \"artist\": artist,\n",
        "    \"track\": track\n",
        "  })\n",
        "\n",
        "  res = requests.get(BASE_URL, params)\n",
        "\n",
        "  return json.loads(res.content)"
      ],
      "metadata": {
        "id": "ouiRkWqD0arK"
      },
      "execution_count": 38,
      "outputs": []
    },
    {
      "cell_type": "markdown",
      "source": [
        "*Busca por nome*\n",
        "\n",
        "Busca um artista por nome aproximado."
      ],
      "metadata": {
        "id": "UPDxca9TDBDT"
      }
    },
    {
      "cell_type": "code",
      "source": [
        "def track_search(track):\n",
        "  params = build_request_params(\"track.search\", {\n",
        "    \"track\": track\n",
        "  })\n",
        "\n",
        "  res = requests.get(BASE_URL, params)\n",
        "\n",
        "  return json.loads(res.content)"
      ],
      "metadata": {
        "id": "E4wYiDS70eOS"
      },
      "execution_count": 39,
      "outputs": []
    },
    {
      "cell_type": "markdown",
      "source": [
        "#### Usuário"
      ],
      "metadata": {
        "id": "2tEm6G890qVJ"
      }
    },
    {
      "cell_type": "markdown",
      "source": [
        "*Busca amigos*\n",
        "\n",
        "Retorna os amigos de um usuário."
      ],
      "metadata": {
        "id": "rVoqxHUSDC1Z"
      }
    },
    {
      "cell_type": "code",
      "source": [
        "def user_get_friends(username):\n",
        "  params = build_request_params(\"user.getfriends\", {\n",
        "    \"user\": username\n",
        "  })\n",
        "\n",
        "  res = requests.get(BASE_URL, params)\n",
        "\n",
        "  return json.loads(res.content)"
      ],
      "metadata": {
        "id": "9iCFYOzo0u38"
      },
      "execution_count": 114,
      "outputs": []
    },
    {
      "cell_type": "markdown",
      "source": [
        "*Busca informações*\n",
        "\n",
        "Busca informações básicas sobre um usuário."
      ],
      "metadata": {
        "id": "3vZPL_UtDGw_"
      }
    },
    {
      "cell_type": "code",
      "source": [
        "def user_get_info(username):\n",
        "  params = build_request_params(\"user.getinfo\", {\n",
        "    \"user\": username\n",
        "  })\n",
        "\n",
        "  res = requests.get(BASE_URL, params)\n",
        "\n",
        "  return json.loads(res.content)"
      ],
      "metadata": {
        "id": "tGo8Q3UB02Jb"
      },
      "execution_count": 41,
      "outputs": []
    },
    {
      "cell_type": "markdown",
      "source": [
        "*Busca faixas favoritas*\n",
        "\n",
        "Busca as faixas favoritadas por um usuário."
      ],
      "metadata": {
        "id": "IhEQYRrWDMxn"
      }
    },
    {
      "cell_type": "code",
      "source": [
        "def user_get_loved_tracks(username):\n",
        "  params = build_request_params(\"user.getlovedtracks\", {\n",
        "    \"user\": username\n",
        "  })\n",
        "\n",
        "  res = requests.get(BASE_URL, params)\n",
        "\n",
        "  return json.loads(res.content)"
      ],
      "metadata": {
        "id": "9UebqwII0-oV"
      },
      "execution_count": 42,
      "outputs": []
    },
    {
      "cell_type": "markdown",
      "source": [
        "*Busca álbuns mais ouvidos*\n",
        "\n",
        "Busca os álbuns mais ouvidos pelo usuário."
      ],
      "metadata": {
        "id": "X_oX-REwDRLx"
      }
    },
    {
      "cell_type": "code",
      "source": [
        "def user_get_top_albums(username):\n",
        "  params = build_request_params(\"user.gettopalbums\", {\n",
        "    \"user\": username\n",
        "  })\n",
        "\n",
        "  res = requests.get(BASE_URL, params)\n",
        "\n",
        "  return json.loads(res.content)"
      ],
      "metadata": {
        "id": "A7ZlPWnp1CCg"
      },
      "execution_count": 43,
      "outputs": []
    },
    {
      "cell_type": "markdown",
      "source": [
        "*Busca artistas mais ouvidos*\n",
        "\n",
        "Busca os artistas mais ouvidos pelo usuário."
      ],
      "metadata": {
        "id": "W0IsY0P0DWOS"
      }
    },
    {
      "cell_type": "code",
      "source": [
        "def user_get_top_artists(username):\n",
        "  params = build_request_params(\"user.gettopartists\", {\n",
        "    \"user\": username\n",
        "  })\n",
        "\n",
        "  res = requests.get(BASE_URL, params)\n",
        "\n",
        "  return json.loads(res.content)"
      ],
      "metadata": {
        "id": "VOO_giP31F-_"
      },
      "execution_count": 44,
      "outputs": []
    },
    {
      "cell_type": "markdown",
      "source": [
        "*Busca tags mais ouvidas*\n",
        "\n",
        "Busca as tags mais ouvidas pelo usuário."
      ],
      "metadata": {
        "id": "mU-JeCZyDa5t"
      }
    },
    {
      "cell_type": "code",
      "source": [
        "def user_get_top_tags(username):\n",
        "  params = build_request_params(\"user.gettoptags\", {\n",
        "    \"user\": username\n",
        "  })\n",
        "\n",
        "  res = requests.get(BASE_URL, params)\n",
        "\n",
        "  return json.loads(res.content)"
      ],
      "metadata": {
        "id": "Zl0C_h9f1LHR"
      },
      "execution_count": 45,
      "outputs": []
    },
    {
      "cell_type": "markdown",
      "source": [
        "*Busca tags mais ouvidas*\n",
        "\n",
        "Busca as tags mais ouvidas pelo usuário."
      ],
      "metadata": {
        "id": "X6SpJtl0DnnA"
      }
    },
    {
      "cell_type": "code",
      "source": [
        "def user_get_top_tracks(username):\n",
        "  params = build_request_params(\"user.gettoptracks\", {\n",
        "    \"user\": username\n",
        "  })\n",
        "\n",
        "  res = requests.get(BASE_URL, params)\n",
        "\n",
        "  return json.loads(res.content)"
      ],
      "metadata": {
        "id": "iTGEYCdD1OwB"
      },
      "execution_count": 46,
      "outputs": []
    },
    {
      "cell_type": "markdown",
      "source": [
        "#### **EXEMPLOS PRÁTICOS**"
      ],
      "metadata": {
        "id": "marqph_raryN"
      }
    },
    {
      "cell_type": "markdown",
      "source": [
        "#### Álbum"
      ],
      "metadata": {
        "id": "gjCc3awk1Zcb"
      }
    },
    {
      "cell_type": "code",
      "source": [
        "album = album_get_info(\"Black Country, New Road\", \"Ants From Up There\")\n",
        "\n",
        "album_artist   = album[\"album\"][\"artist\"]\n",
        "album_title    = album[\"album\"][\"name\"]\n",
        "album_rel_date = album[\"album\"][\"wiki\"][\"published\"]\n",
        "album_desc     = album[\"album\"][\"wiki\"][\"summary\"]\n",
        "\n",
        "print(f\"{album_title} by {album_artist}\")\n",
        "print(f\"Released {album_rel_date}\")\n",
        "print(f\"Description: {album_desc}\")\n",
        "\n",
        "print(\"Tracks:\")\n",
        "\n",
        "for track in album[\"album\"][\"tracks\"][\"track\"]:\n",
        "  track_name = track[\"name\"]\n",
        "  print(f\"- {track_name}\")\n",
        "\n",
        "print(\"Tags:\")\n",
        "\n",
        "album_tags = album_get_top_tags(album_artist, album_title)\n",
        "album_tags = [ tag[\"name\"] for tag in album_tags[\"toptags\"][\"tag\"] ]\n",
        "\n",
        "for tag in album_tags[:10]:\n",
        "  print(f\"- {tag}\")"
      ],
      "metadata": {
        "colab": {
          "base_uri": "https://localhost:8080/"
        },
        "id": "C87H2oQg1bmt",
        "outputId": "ffe2a8d9-edec-46f3-d5ff-e76f473ca87b"
      },
      "execution_count": 59,
      "outputs": [
        {
          "output_type": "stream",
          "name": "stdout",
          "text": [
            "Ants From Up There by Black Country, New Road\n",
            "Released 07 Jul 2023, 23:40\n",
            "Description: Ants From Up There is the second studio album by British rock band Black Country, New Road, released on 4 February 2022 on Ninja Tune. Recorded at Chale Abbey on the Isle of Wight, the album was produced by the band's live sound engineer Sergio Maschetzko, and is the final album to feature lead vocalist and guitarist Isaac Wood, who announced his departure from the band on 31 January 2022, four days prior to the album's release. Written during COVID-19 lockdowns and road-tested during brief touring stints in support of their debut album \"For the first time\", the album was <a href=\"https://www.last.fm/music/Black+Country,+New+Road/Ants+From+Up+There\">Read more on Last.fm</a>.\n",
            "Tracks:\n",
            "- Intro\n",
            "- Chaos Space Marine\n",
            "- Concorde\n",
            "- Bread Song\n",
            "- Good Will Hunting\n",
            "- Haldern\n",
            "- Mark’s Theme\n",
            "- The Place Where He Inserted The Blade\n",
            "- Snow Globes\n",
            "- Basketball Shoes\n",
            "Tags:\n",
            "- 2022\n",
            "- post-rock\n",
            "- art rock\n",
            "- indie rock\n",
            "- chamber pop\n",
            "- chamber music\n",
            "- 2020s\n",
            "- post-punk\n",
            "- indie\n",
            "- Progressive\n"
          ]
        }
      ]
    },
    {
      "cell_type": "markdown",
      "source": [
        "#### Artista"
      ],
      "metadata": {
        "id": "4ATgcnH54t4N"
      }
    },
    {
      "cell_type": "code",
      "source": [
        "artist_name = artist_get_correction(\"Godspeed you black emperor\")[\"corrections\"][\"correction\"][\"artist\"][\"name\"]\n",
        "\n",
        "artist_info = artist_get_info(artist_name)\n",
        "artist_desc = artist_info[\"artist\"][\"bio\"][\"summary\"]\n",
        "\n",
        "print(f\"{artist_name}\")\n",
        "print(f\"Description: {artist_desc}\")\n",
        "\n",
        "print(\"Similar artists:\")\n",
        "\n",
        "for similar_artist in artist_info[\"artist\"][\"similar\"][\"artist\"][:4]:\n",
        "  similar_artist_name = similar_artist[\"name\"]\n",
        "  print(f\"- {similar_artist_name}\")\n",
        "\n",
        "artist_top_albums = artist_get_top_albums(artist_name)\n",
        "\n",
        "print(\"Top albums:\")\n",
        "\n",
        "for top_album in artist_top_albums[\"topalbums\"][\"album\"][:4]:\n",
        "  top_album_name = top_album[\"name\"]\n",
        "  print(f\"- {top_album_name}\")\n",
        "\n",
        "artist_tags = artist_get_top_tags(artist_name)\n",
        "\n",
        "print(\"Tags:\")\n",
        "\n",
        "for tag in artist_tags[\"toptags\"][\"tag\"][:4]:\n",
        "  tag_name = tag[\"name\"]\n",
        "  print(f\"- {tag_name}\")\n",
        "\n",
        "#print(json.dumps(artist_tags, indent=2))"
      ],
      "metadata": {
        "colab": {
          "base_uri": "https://localhost:8080/"
        },
        "id": "UqVsbXmR4vto",
        "outputId": "dd78bfa0-7e2e-46fd-e310-55d603d7f9d6"
      },
      "execution_count": 75,
      "outputs": [
        {
          "output_type": "stream",
          "name": "stdout",
          "text": [
            "Godspeed You! Black Emperor\n",
            "Description: Godspeed You! Black Emperor (formerly punctuated Godspeed You Black Emperor! and abbreviated to GY!BE, GYBE or Godspeed) is a Canadian post-rock band based in Montreal, Quebec. \n",
            "\n",
            "Formed in 1994 in Montreal, Canada, the band has been highly influential within the post-rock genre. Working with orchestrated arrangements, the nine-piece group created tracks with wide dynamic ranges, a highly evocative use of instrumentation and sounds and uncompromising long form compositions. <a href=\"https://www.last.fm/music/Godspeed+You%21+Black+Emperor\">Read more on Last.fm</a>\n",
            "Similar artists:\n",
            "- A Silver Mt. Zion\n",
            "- Set Fire to Flames\n",
            "- Do Make Say Think\n",
            "- Swans\n",
            "Top albums:\n",
            "- Lift Your Skinny Fists Like Antennas to Heaven\n",
            "- Yanqui U.X.O.\n",
            "- Slow Riot for New Zero Kanada\n",
            "- F♯ A♯ ∞\n",
            "Tags:\n",
            "- post-rock\n",
            "- instrumental\n",
            "- experimental\n",
            "- ambient\n"
          ]
        }
      ]
    },
    {
      "cell_type": "code",
      "source": [
        "user_name = \"edurenesto\"\n",
        "user_artists = library_get_artists(user_name)\n",
        "\n",
        "print(f\"Top artists for {user_name}:\")\n",
        "\n",
        "for artist in user_artists[\"artists\"][\"artist\"][:10]:\n",
        "  artist_name = artist[\"name\"]\n",
        "  print(f\"- {artist_name}\")\n",
        "\n",
        "#print(json.dumps(user_artists, indent=2))"
      ],
      "metadata": {
        "colab": {
          "base_uri": "https://localhost:8080/"
        },
        "id": "Nb2tdtAy76Ps",
        "outputId": "35163a83-189c-43f9-eb77-dee94b2ef770"
      },
      "execution_count": 78,
      "outputs": [
        {
          "output_type": "stream",
          "name": "stdout",
          "text": [
            "Top artists for edurenesto:\n",
            "- Angra\n",
            "- Dream Theater\n",
            "- Taylor Swift\n",
            "- Periphery\n",
            "- Spiritbox\n",
            "- Versailles\n",
            "- Phoebe Bridgers\n",
            "- Haken\n",
            "- Charli XCX\n",
            "- X JAPAN\n"
          ]
        }
      ]
    },
    {
      "cell_type": "code",
      "source": [
        "tag_name = \"shoegaze\"\n",
        "tag_info = tag_get_info(tag_name)\n",
        "tag_desc = tag_info[\"tag\"][\"wiki\"][\"summary\"]\n",
        "\n",
        "print(f\"{tag_name}\")\n",
        "print(f\"Description: {tag_desc}\")\n",
        "\n",
        "print(\"Top albums:\")\n",
        "\n",
        "tag_top_albums = tag_get_top_albums(tag_name)[\"albums\"][\"album\"][:10]\n",
        "\n",
        "for album in tag_top_albums:\n",
        "  album_artist = album[\"artist\"][\"name\"]\n",
        "  album_title = album[\"name\"]\n",
        "  print(f\"- {album_artist} - {album_title}\")\n",
        "\n",
        "print(\"Top artists:\")\n",
        "\n",
        "tag_top_artists = tag_get_top_artists(tag_name)[\"topartists\"][\"artist\"][:10]\n",
        "\n",
        "for artist in tag_top_artists:\n",
        "  artist_name = artist[\"name\"]\n",
        "  print(f\"- {artist_name}\")\n",
        "\n",
        "print(\"Top tracks:\")\n",
        "\n",
        "tag_top_tracks = tag_get_top_tracks(tag_name)[\"tracks\"][\"track\"][:10]\n",
        "\n",
        "for track in tag_top_tracks:\n",
        "  track_name = track[\"name\"]\n",
        "  artist_name = track[\"artist\"][\"name\"]\n",
        "  print(f\"- {artist_name} - {track_name}\")"
      ],
      "metadata": {
        "colab": {
          "base_uri": "https://localhost:8080/"
        },
        "id": "9CVvpCY68g5R",
        "outputId": "9891ccbb-28a7-48aa-d393-3658f28c6673"
      },
      "execution_count": 95,
      "outputs": [
        {
          "output_type": "stream",
          "name": "stdout",
          "text": [
            "shoegaze\n",
            "Description: Shoegaze is a style of alternative rock  that emerged from the United Kingdom in the late 1980s. It lasted until the mid 1990s, peaking circa 1990 to 1993.\n",
            "\n",
            "The British music press (notably NME and Melody Maker) called this genre \"shoegazing\" because the musicians in these bands often maintained a motionless performing style, standing on stage and staring down at their effects pedals while playing their instruments (hence, the idea that they were gazing at their shoes). <a href=\"http://www.last.fm/tag/shoegaze\">Read more on Last.fm</a>.\n",
            "Top albums:\n",
            "- My Bloody Valentine - Loveless\n",
            "- Slowdive - Souvlaki\n",
            "- Have a Nice Life - Deathconsciousness\n",
            "- Salvia Palth - Melanchole\n",
            "- The Smashing Pumpkins - Siamese Dream (2011 - Remaster)\n",
            "- Slowdive - Just for a Day\n",
            "- Wolf Alice - Visions Of A Life\n",
            "- Sweet Trip - Velocity: design: comfort.\n",
            "- Candy Claws - Ceres & Calypso in the Deep Time\n",
            "- My Bloody Valentine - m b v\n",
            "Top artists:\n",
            "- Slowdive\n",
            "- My Bloody Valentine\n",
            "- Deerhunter\n",
            "- Have a Nice Life\n",
            "- The Jesus and Mary Chain\n",
            "- Sweet Trip\n",
            "- Panchiko\n",
            "- The Radio Dept.\n",
            "- DIIV\n",
            "- Alcest\n",
            "Top tracks:\n",
            "- M83 - Midnight City\n",
            "- Tyler, the Creator - See You Again (feat. Kali Uchis)\n",
            "- Mazzy Star - Fade Into You\n",
            "- Deftones - Be Quiet and Drive (Far Away)\n",
            "- My Bloody Valentine - When You Sleep\n",
            "- Men I Trust - Show Me How\n",
            "- My Bloody Valentine - Only Shallow\n",
            "- M83 - Wait\n",
            "- Slowdive - When the Sun Hits\n",
            "- Cocteau Twins - Cherry-Coloured Funk\n"
          ]
        }
      ]
    },
    {
      "cell_type": "markdown",
      "source": [
        "#### Usuário"
      ],
      "metadata": {
        "id": "sxBG9KO5_NF6"
      }
    },
    {
      "cell_type": "code",
      "source": [
        "user_name = \"edurenesto\"\n",
        "\n",
        "user_friends = user_get_friends(user_name)[\"friends\"][\"user\"]\n",
        "\n",
        "print(f\"Friends of {user_name}:\")\n",
        "\n",
        "for friend in user_friends:\n",
        "  friend_name = friend[\"name\"]\n",
        "  print(f\"- {friend_name}\")\n",
        "\n",
        "user_top_albums = user_get_top_albums(user_name)[\"topalbums\"][\"album\"][:10]\n",
        "\n",
        "print(f\"Top albums for {user_name}:\")\n",
        "\n",
        "for album in user_top_albums:\n",
        "  album_artist = album[\"artist\"][\"name\"]\n",
        "  album_title = album[\"name\"]\n",
        "  print(f\"- {album_artist} - {album_title}\")\n",
        "\n",
        "print(f\"Top artists for {user_name}:\")\n",
        "\n",
        "user_top_artists = user_get_top_artists(user_name)[\"topartists\"][\"artist\"][:10]\n",
        "\n",
        "for artist in user_top_artists:\n",
        "  artist_name = artist[\"name\"]\n",
        "  print(f\"- {artist_name}\")\n",
        "\n",
        "print(f\"Top tracks for {user_name}:\")\n",
        "\n",
        "user_top_tracks = user_get_top_tracks(user_name)[\"toptracks\"][\"track\"][:10]\n",
        "\n",
        "for track in user_top_tracks:\n",
        "  track_name = track[\"name\"]\n",
        "  artist_name = track[\"artist\"][\"name\"]\n",
        "  print(f\"- {artist_name} - {track_name}\")"
      ],
      "metadata": {
        "colab": {
          "base_uri": "https://localhost:8080/"
        },
        "id": "ijaMpTTD_L6e",
        "outputId": "deaf7fd9-4088-4a87-e012-56f7357f6d34"
      },
      "execution_count": 106,
      "outputs": [
        {
          "output_type": "stream",
          "name": "stdout",
          "text": [
            "Friends of edurenesto:\n",
            "- lulcca\n",
            "- snowLucas\n",
            "- lineconquista\n",
            "- lckoj\n",
            "- luppysz\n",
            "- Lvc_retia\n",
            "- Clokkemaker\n",
            "- peruibeloko\n",
            "- Rhaudaer\n",
            "- southerngothix\n",
            "- redrest\n",
            "- sagotiba\n",
            "Top albums for edurenesto:\n",
            "- Loathe - I Let It In And It Took Everything\n",
            "- Phoebe Bridgers - Punisher\n",
            "- Spiritbox - Eternal Blue\n",
            "- Phoebe Bridgers - Stranger in the Alps\n",
            "- Black Country, New Road - Ants From Up There\n",
            "- Sleep Token - This Place Will Become Your Tomb\n",
            "- Angra - Temple of Shadows\n",
            "- Taylor Swift - folklore\n",
            "- Periphery - Periphery III: Select Difficulty\n",
            "- Adorável Clichê - O Que Existe Dentro de Mim\n",
            "Top artists for edurenesto:\n",
            "- Angra\n",
            "- Dream Theater\n",
            "- Taylor Swift\n",
            "- Periphery\n",
            "- Versailles\n",
            "- Phoebe Bridgers\n",
            "- Spiritbox\n",
            "- Haken\n",
            "- Charli XCX\n",
            "- X JAPAN\n",
            "Top tracks for edurenesto:\n",
            "- Spiritbox - Constance\n",
            "- Phoebe Bridgers - Moon Song\n",
            "- Angra - Spread Your Fire\n",
            "- Phoebe Bridgers - Kyoto\n",
            "- Spiritbox - Circle With Me\n",
            "- Periphery - Stranger Things\n",
            "- Spiritbox - Holy Roller\n",
            "- Loathe - Is It Really You?\n",
            "- Phoebe Bridgers - Motion Sickness\n",
            "- Spiritbox - Secret Garden\n"
          ]
        }
      ]
    },
    {
      "cell_type": "markdown",
      "source": [
        "#### **CONSIDERAÇÕES**"
      ],
      "metadata": {
        "id": "xIP2DoACa7of"
      }
    },
    {
      "cell_type": "markdown",
      "source": [
        "Note que aqui foi apresentado apenas um subconjunto da API do Last.fm. A saber, não apresentamos as funções que façam algum tipo de *escrita* na base de dados, pois tais requisições exigem um sistema de autenticação muito mais complexo, que foge ao escopo do presente tutorial."
      ],
      "metadata": {
        "id": "dCRN197XbcQH"
      }
    },
    {
      "cell_type": "markdown",
      "source": [
        "**REFERÊNCIAS**\n",
        "\n",
        "---\n",
        "\n"
      ],
      "metadata": {
        "id": "DJa20CJRpQ7t"
      }
    },
    {
      "cell_type": "markdown",
      "source": [
        "- [Last.fm API Docs](https://www.last.fm/api/intro)"
      ],
      "metadata": {
        "id": "GxpuIOR3pUWr"
      }
    }
  ]
}